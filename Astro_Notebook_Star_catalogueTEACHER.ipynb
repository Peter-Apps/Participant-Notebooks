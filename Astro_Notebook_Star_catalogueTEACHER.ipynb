{
  "cells": [
    {
      "cell_type": "markdown",
      "metadata": {
        "id": "view-in-github",
        "colab_type": "text"
      },
      "source": [
        "<a href=\"https://colab.research.google.com/github/tracieschroeder/Participant-Notebooks/blob/main/Astro_Notebook_Star_catalogueTEACHER.ipynb\" target=\"_parent\"><img src=\"https://colab.research.google.com/assets/colab-badge.svg\" alt=\"Open In Colab\"/></a>"
      ]
    },
    {
      "cell_type": "markdown",
      "metadata": {
        "id": "S7qIBbUQxdTY"
      },
      "source": [
        "# Naked Eye Star Properties from a Big Data Set\n",
        "Your tasks are to:  \n",
        "- use Python to download and analyze a file\n",
        "- investigate what properties of a star are helpful to astronomers\n",
        "- analyze a huge collection of Hipparcos, Yale Bright Star, and Gliese catalogues\n",
        "- use code to calculate other useful quantities, create filters, etc\n",
        "\n",
        "### Helpful resources  \n",
        "- This notebook already has some helpful code, but you may need to copy some code from earlier notebooks and/or use other resources to help make progress.  \n",
        "- To read a csv file hosted on GitHub, navigate to that file and copy the link from the \"download\" button (right-click and copy link).  \n"
      ]
    },
    {
      "cell_type": "markdown",
      "source": [
        "#Part 0: Introduction\n",
        "\n",
        "In order to start our work, we will need to import modules and read/inspect our data."
      ],
      "metadata": {
        "id": "RAwEiDJSKdAr"
      }
    },
    {
      "cell_type": "code",
      "execution_count": null,
      "metadata": {
        "id": "aGuRZ8xlxdTa"
      },
      "outputs": [],
      "source": [
        "# Import modules\n",
        "# You will at least need pandas, numpy, matplotlib, and pyplot\n",
        "import pandas as pd\n",
        "import numpy as np\n",
        "import matplotlib as mpl\n",
        "import matplotlib.pyplot as plt"
      ]
    },
    {
      "cell_type": "code",
      "execution_count": null,
      "metadata": {
        "id": "jI493pHkxdTi"
      },
      "outputs": [],
      "source": [
        "# Read in data that will be used for the calculations.\n",
        "# Get the \"stars.csv\" in the \"data\" folder at https://raw.githubusercontent.com/skmay-physics/codingresources/main/stars.csv\n",
        "data = pd.read_csv(\"https://raw.githubusercontent.com/skmay-physics/codingresources/main/stars.csv\")"
      ]
    },
    {
      "cell_type": "code",
      "execution_count": null,
      "metadata": {
        "id": "NPDIy0F4xdTr",
        "colab": {
          "base_uri": "https://localhost:8080/"
        },
        "outputId": "4800ebc5-ba33-42db-f656-3c675aecee90"
      },
      "outputs": [
        {
          "output_type": "execute_result",
          "data": {
            "text/plain": [
              "             proper         ra        dec    dist    mag  absmag     ci  \\\n",
              "0               Sol   0.000000   0.000000  0.0000 -26.70   4.850  0.656   \n",
              "1  Proxima Centauri  14.495985 -62.679485  1.2959  11.01  15.447  1.807   \n",
              "2   Rigil Kentaurus  14.660765 -60.833976  1.3248  -0.01   4.379  0.710   \n",
              "3               NaN  14.660346 -60.838300  1.3248   1.35   5.739  0.900   \n",
              "4    Barnard's Star  17.963472   4.693388  1.8238   9.54  13.235  1.570   \n",
              "\n",
              "          temp         x         y         z  con       lum    var  var_min  \\\n",
              "0  5756.588113  0.000005  0.000000  0.000000  NaN  1.000000    NaN      NaN   \n",
              "1  3383.441193 -0.472264 -0.361451 -1.151219  Cen  0.000058   V645   11.079   \n",
              "2  5567.728737 -0.495203 -0.414084 -1.156625  Cen  1.543121    NaN    0.113   \n",
              "3  4996.415833 -0.495181 -0.413973 -1.156674  Cen  0.440961    NaN      NaN   \n",
              "4  3691.168543 -0.017373 -1.816613  0.149123  Oph  0.000443  V2500    9.590   \n",
              "\n",
              "   var_max  \n",
              "0      NaN  \n",
              "1   10.939  \n",
              "2   -0.087  \n",
              "3      NaN  \n",
              "4    9.490  "
            ],
            "text/html": [
              "\n",
              "  <div id=\"df-2e101774-8488-46bd-82b8-d2b8e1a8a973\">\n",
              "    <div class=\"colab-df-container\">\n",
              "      <div>\n",
              "<style scoped>\n",
              "    .dataframe tbody tr th:only-of-type {\n",
              "        vertical-align: middle;\n",
              "    }\n",
              "\n",
              "    .dataframe tbody tr th {\n",
              "        vertical-align: top;\n",
              "    }\n",
              "\n",
              "    .dataframe thead th {\n",
              "        text-align: right;\n",
              "    }\n",
              "</style>\n",
              "<table border=\"1\" class=\"dataframe\">\n",
              "  <thead>\n",
              "    <tr style=\"text-align: right;\">\n",
              "      <th></th>\n",
              "      <th>proper</th>\n",
              "      <th>ra</th>\n",
              "      <th>dec</th>\n",
              "      <th>dist</th>\n",
              "      <th>mag</th>\n",
              "      <th>absmag</th>\n",
              "      <th>ci</th>\n",
              "      <th>temp</th>\n",
              "      <th>x</th>\n",
              "      <th>y</th>\n",
              "      <th>z</th>\n",
              "      <th>con</th>\n",
              "      <th>lum</th>\n",
              "      <th>var</th>\n",
              "      <th>var_min</th>\n",
              "      <th>var_max</th>\n",
              "    </tr>\n",
              "  </thead>\n",
              "  <tbody>\n",
              "    <tr>\n",
              "      <th>0</th>\n",
              "      <td>Sol</td>\n",
              "      <td>0.000000</td>\n",
              "      <td>0.000000</td>\n",
              "      <td>0.0000</td>\n",
              "      <td>-26.70</td>\n",
              "      <td>4.850</td>\n",
              "      <td>0.656</td>\n",
              "      <td>5756.588113</td>\n",
              "      <td>0.000005</td>\n",
              "      <td>0.000000</td>\n",
              "      <td>0.000000</td>\n",
              "      <td>NaN</td>\n",
              "      <td>1.000000</td>\n",
              "      <td>NaN</td>\n",
              "      <td>NaN</td>\n",
              "      <td>NaN</td>\n",
              "    </tr>\n",
              "    <tr>\n",
              "      <th>1</th>\n",
              "      <td>Proxima Centauri</td>\n",
              "      <td>14.495985</td>\n",
              "      <td>-62.679485</td>\n",
              "      <td>1.2959</td>\n",
              "      <td>11.01</td>\n",
              "      <td>15.447</td>\n",
              "      <td>1.807</td>\n",
              "      <td>3383.441193</td>\n",
              "      <td>-0.472264</td>\n",
              "      <td>-0.361451</td>\n",
              "      <td>-1.151219</td>\n",
              "      <td>Cen</td>\n",
              "      <td>0.000058</td>\n",
              "      <td>V645</td>\n",
              "      <td>11.079</td>\n",
              "      <td>10.939</td>\n",
              "    </tr>\n",
              "    <tr>\n",
              "      <th>2</th>\n",
              "      <td>Rigil Kentaurus</td>\n",
              "      <td>14.660765</td>\n",
              "      <td>-60.833976</td>\n",
              "      <td>1.3248</td>\n",
              "      <td>-0.01</td>\n",
              "      <td>4.379</td>\n",
              "      <td>0.710</td>\n",
              "      <td>5567.728737</td>\n",
              "      <td>-0.495203</td>\n",
              "      <td>-0.414084</td>\n",
              "      <td>-1.156625</td>\n",
              "      <td>Cen</td>\n",
              "      <td>1.543121</td>\n",
              "      <td>NaN</td>\n",
              "      <td>0.113</td>\n",
              "      <td>-0.087</td>\n",
              "    </tr>\n",
              "    <tr>\n",
              "      <th>3</th>\n",
              "      <td>NaN</td>\n",
              "      <td>14.660346</td>\n",
              "      <td>-60.838300</td>\n",
              "      <td>1.3248</td>\n",
              "      <td>1.35</td>\n",
              "      <td>5.739</td>\n",
              "      <td>0.900</td>\n",
              "      <td>4996.415833</td>\n",
              "      <td>-0.495181</td>\n",
              "      <td>-0.413973</td>\n",
              "      <td>-1.156674</td>\n",
              "      <td>Cen</td>\n",
              "      <td>0.440961</td>\n",
              "      <td>NaN</td>\n",
              "      <td>NaN</td>\n",
              "      <td>NaN</td>\n",
              "    </tr>\n",
              "    <tr>\n",
              "      <th>4</th>\n",
              "      <td>Barnard's Star</td>\n",
              "      <td>17.963472</td>\n",
              "      <td>4.693388</td>\n",
              "      <td>1.8238</td>\n",
              "      <td>9.54</td>\n",
              "      <td>13.235</td>\n",
              "      <td>1.570</td>\n",
              "      <td>3691.168543</td>\n",
              "      <td>-0.017373</td>\n",
              "      <td>-1.816613</td>\n",
              "      <td>0.149123</td>\n",
              "      <td>Oph</td>\n",
              "      <td>0.000443</td>\n",
              "      <td>V2500</td>\n",
              "      <td>9.590</td>\n",
              "      <td>9.490</td>\n",
              "    </tr>\n",
              "  </tbody>\n",
              "</table>\n",
              "</div>\n",
              "      <button class=\"colab-df-convert\" onclick=\"convertToInteractive('df-2e101774-8488-46bd-82b8-d2b8e1a8a973')\"\n",
              "              title=\"Convert this dataframe to an interactive table.\"\n",
              "              style=\"display:none;\">\n",
              "        \n",
              "  <svg xmlns=\"http://www.w3.org/2000/svg\" height=\"24px\"viewBox=\"0 0 24 24\"\n",
              "       width=\"24px\">\n",
              "    <path d=\"M0 0h24v24H0V0z\" fill=\"none\"/>\n",
              "    <path d=\"M18.56 5.44l.94 2.06.94-2.06 2.06-.94-2.06-.94-.94-2.06-.94 2.06-2.06.94zm-11 1L8.5 8.5l.94-2.06 2.06-.94-2.06-.94L8.5 2.5l-.94 2.06-2.06.94zm10 10l.94 2.06.94-2.06 2.06-.94-2.06-.94-.94-2.06-.94 2.06-2.06.94z\"/><path d=\"M17.41 7.96l-1.37-1.37c-.4-.4-.92-.59-1.43-.59-.52 0-1.04.2-1.43.59L10.3 9.45l-7.72 7.72c-.78.78-.78 2.05 0 2.83L4 21.41c.39.39.9.59 1.41.59.51 0 1.02-.2 1.41-.59l7.78-7.78 2.81-2.81c.8-.78.8-2.07 0-2.86zM5.41 20L4 18.59l7.72-7.72 1.47 1.35L5.41 20z\"/>\n",
              "  </svg>\n",
              "      </button>\n",
              "      \n",
              "  <style>\n",
              "    .colab-df-container {\n",
              "      display:flex;\n",
              "      flex-wrap:wrap;\n",
              "      gap: 12px;\n",
              "    }\n",
              "\n",
              "    .colab-df-convert {\n",
              "      background-color: #E8F0FE;\n",
              "      border: none;\n",
              "      border-radius: 50%;\n",
              "      cursor: pointer;\n",
              "      display: none;\n",
              "      fill: #1967D2;\n",
              "      height: 32px;\n",
              "      padding: 0 0 0 0;\n",
              "      width: 32px;\n",
              "    }\n",
              "\n",
              "    .colab-df-convert:hover {\n",
              "      background-color: #E2EBFA;\n",
              "      box-shadow: 0px 1px 2px rgba(60, 64, 67, 0.3), 0px 1px 3px 1px rgba(60, 64, 67, 0.15);\n",
              "      fill: #174EA6;\n",
              "    }\n",
              "\n",
              "    [theme=dark] .colab-df-convert {\n",
              "      background-color: #3B4455;\n",
              "      fill: #D2E3FC;\n",
              "    }\n",
              "\n",
              "    [theme=dark] .colab-df-convert:hover {\n",
              "      background-color: #434B5C;\n",
              "      box-shadow: 0px 1px 3px 1px rgba(0, 0, 0, 0.15);\n",
              "      filter: drop-shadow(0px 1px 2px rgba(0, 0, 0, 0.3));\n",
              "      fill: #FFFFFF;\n",
              "    }\n",
              "  </style>\n",
              "\n",
              "      <script>\n",
              "        const buttonEl =\n",
              "          document.querySelector('#df-2e101774-8488-46bd-82b8-d2b8e1a8a973 button.colab-df-convert');\n",
              "        buttonEl.style.display =\n",
              "          google.colab.kernel.accessAllowed ? 'block' : 'none';\n",
              "\n",
              "        async function convertToInteractive(key) {\n",
              "          const element = document.querySelector('#df-2e101774-8488-46bd-82b8-d2b8e1a8a973');\n",
              "          const dataTable =\n",
              "            await google.colab.kernel.invokeFunction('convertToInteractive',\n",
              "                                                     [key], {});\n",
              "          if (!dataTable) return;\n",
              "\n",
              "          const docLinkHtml = 'Like what you see? Visit the ' +\n",
              "            '<a target=\"_blank\" href=https://colab.research.google.com/notebooks/data_table.ipynb>data table notebook</a>'\n",
              "            + ' to learn more about interactive tables.';\n",
              "          element.innerHTML = '';\n",
              "          dataTable['output_type'] = 'display_data';\n",
              "          await google.colab.output.renderOutput(dataTable, element);\n",
              "          const docLink = document.createElement('div');\n",
              "          docLink.innerHTML = docLinkHtml;\n",
              "          element.appendChild(docLink);\n",
              "        }\n",
              "      </script>\n",
              "    </div>\n",
              "  </div>\n",
              "  "
            ]
          },
          "metadata": {},
          "execution_count": 133
        }
      ],
      "source": [
        "# We wish to look at the first 5 rows of our data set. The command for .head is a good way to give this information.\n",
        "data.head(5)"
      ]
    },
    {
      "cell_type": "code",
      "execution_count": null,
      "metadata": {
        "id": "Scs4sBetxdTw",
        "colab": {
          "base_uri": "https://localhost:8080/"
        },
        "outputId": "6d241392-04f5-49a4-a8f8-1c2d8ea8a285"
      },
      "outputs": [
        {
          "output_type": "execute_result",
          "data": {
            "text/plain": [
              "(119614, 16)"
            ]
          },
          "metadata": {},
          "execution_count": 134
        }
      ],
      "source": [
        "# The .shape command displays the (number of rows , number of columns) in a file.\n",
        "data.shape"
      ]
    },
    {
      "cell_type": "code",
      "source": [
        "# To get the information on one star of interest, we can use the dataloc command\n",
        "# modify the code to retrieve the information for Polaris\n",
        "data.loc[data['proper'] == 'Polaris']"
      ],
      "metadata": {
        "colab": {
          "base_uri": "https://localhost:8080/"
        },
        "id": "w9qby7PugUJt",
        "outputId": "172982cc-0367-4c42-a6fe-af9e633221bb"
      },
      "execution_count": null,
      "outputs": [
        {
          "output_type": "execute_result",
          "data": {
            "text/plain": [
              "        proper       ra        dec     dist   mag  absmag     ci         temp  \\\n",
              "35939  Polaris  2.52975  89.264109  132.626  1.97  -3.643  0.636  5830.070651   \n",
              "\n",
              "            x         y           z  con          lum  var  var_min  var_max  \n",
              "35939  1.3431  1.047629  132.614909  UMi  2495.743795  Alp    1.993    1.953  "
            ],
            "text/html": [
              "\n",
              "  <div id=\"df-6ab0fa05-23d6-4645-8dd8-e660c072120d\">\n",
              "    <div class=\"colab-df-container\">\n",
              "      <div>\n",
              "<style scoped>\n",
              "    .dataframe tbody tr th:only-of-type {\n",
              "        vertical-align: middle;\n",
              "    }\n",
              "\n",
              "    .dataframe tbody tr th {\n",
              "        vertical-align: top;\n",
              "    }\n",
              "\n",
              "    .dataframe thead th {\n",
              "        text-align: right;\n",
              "    }\n",
              "</style>\n",
              "<table border=\"1\" class=\"dataframe\">\n",
              "  <thead>\n",
              "    <tr style=\"text-align: right;\">\n",
              "      <th></th>\n",
              "      <th>proper</th>\n",
              "      <th>ra</th>\n",
              "      <th>dec</th>\n",
              "      <th>dist</th>\n",
              "      <th>mag</th>\n",
              "      <th>absmag</th>\n",
              "      <th>ci</th>\n",
              "      <th>temp</th>\n",
              "      <th>x</th>\n",
              "      <th>y</th>\n",
              "      <th>z</th>\n",
              "      <th>con</th>\n",
              "      <th>lum</th>\n",
              "      <th>var</th>\n",
              "      <th>var_min</th>\n",
              "      <th>var_max</th>\n",
              "    </tr>\n",
              "  </thead>\n",
              "  <tbody>\n",
              "    <tr>\n",
              "      <th>35939</th>\n",
              "      <td>Polaris</td>\n",
              "      <td>2.52975</td>\n",
              "      <td>89.264109</td>\n",
              "      <td>132.626</td>\n",
              "      <td>1.97</td>\n",
              "      <td>-3.643</td>\n",
              "      <td>0.636</td>\n",
              "      <td>5830.070651</td>\n",
              "      <td>1.3431</td>\n",
              "      <td>1.047629</td>\n",
              "      <td>132.614909</td>\n",
              "      <td>UMi</td>\n",
              "      <td>2495.743795</td>\n",
              "      <td>Alp</td>\n",
              "      <td>1.993</td>\n",
              "      <td>1.953</td>\n",
              "    </tr>\n",
              "  </tbody>\n",
              "</table>\n",
              "</div>\n",
              "      <button class=\"colab-df-convert\" onclick=\"convertToInteractive('df-6ab0fa05-23d6-4645-8dd8-e660c072120d')\"\n",
              "              title=\"Convert this dataframe to an interactive table.\"\n",
              "              style=\"display:none;\">\n",
              "        \n",
              "  <svg xmlns=\"http://www.w3.org/2000/svg\" height=\"24px\"viewBox=\"0 0 24 24\"\n",
              "       width=\"24px\">\n",
              "    <path d=\"M0 0h24v24H0V0z\" fill=\"none\"/>\n",
              "    <path d=\"M18.56 5.44l.94 2.06.94-2.06 2.06-.94-2.06-.94-.94-2.06-.94 2.06-2.06.94zm-11 1L8.5 8.5l.94-2.06 2.06-.94-2.06-.94L8.5 2.5l-.94 2.06-2.06.94zm10 10l.94 2.06.94-2.06 2.06-.94-2.06-.94-.94-2.06-.94 2.06-2.06.94z\"/><path d=\"M17.41 7.96l-1.37-1.37c-.4-.4-.92-.59-1.43-.59-.52 0-1.04.2-1.43.59L10.3 9.45l-7.72 7.72c-.78.78-.78 2.05 0 2.83L4 21.41c.39.39.9.59 1.41.59.51 0 1.02-.2 1.41-.59l7.78-7.78 2.81-2.81c.8-.78.8-2.07 0-2.86zM5.41 20L4 18.59l7.72-7.72 1.47 1.35L5.41 20z\"/>\n",
              "  </svg>\n",
              "      </button>\n",
              "      \n",
              "  <style>\n",
              "    .colab-df-container {\n",
              "      display:flex;\n",
              "      flex-wrap:wrap;\n",
              "      gap: 12px;\n",
              "    }\n",
              "\n",
              "    .colab-df-convert {\n",
              "      background-color: #E8F0FE;\n",
              "      border: none;\n",
              "      border-radius: 50%;\n",
              "      cursor: pointer;\n",
              "      display: none;\n",
              "      fill: #1967D2;\n",
              "      height: 32px;\n",
              "      padding: 0 0 0 0;\n",
              "      width: 32px;\n",
              "    }\n",
              "\n",
              "    .colab-df-convert:hover {\n",
              "      background-color: #E2EBFA;\n",
              "      box-shadow: 0px 1px 2px rgba(60, 64, 67, 0.3), 0px 1px 3px 1px rgba(60, 64, 67, 0.15);\n",
              "      fill: #174EA6;\n",
              "    }\n",
              "\n",
              "    [theme=dark] .colab-df-convert {\n",
              "      background-color: #3B4455;\n",
              "      fill: #D2E3FC;\n",
              "    }\n",
              "\n",
              "    [theme=dark] .colab-df-convert:hover {\n",
              "      background-color: #434B5C;\n",
              "      box-shadow: 0px 1px 3px 1px rgba(0, 0, 0, 0.15);\n",
              "      filter: drop-shadow(0px 1px 2px rgba(0, 0, 0, 0.3));\n",
              "      fill: #FFFFFF;\n",
              "    }\n",
              "  </style>\n",
              "\n",
              "      <script>\n",
              "        const buttonEl =\n",
              "          document.querySelector('#df-6ab0fa05-23d6-4645-8dd8-e660c072120d button.colab-df-convert');\n",
              "        buttonEl.style.display =\n",
              "          google.colab.kernel.accessAllowed ? 'block' : 'none';\n",
              "\n",
              "        async function convertToInteractive(key) {\n",
              "          const element = document.querySelector('#df-6ab0fa05-23d6-4645-8dd8-e660c072120d');\n",
              "          const dataTable =\n",
              "            await google.colab.kernel.invokeFunction('convertToInteractive',\n",
              "                                                     [key], {});\n",
              "          if (!dataTable) return;\n",
              "\n",
              "          const docLinkHtml = 'Like what you see? Visit the ' +\n",
              "            '<a target=\"_blank\" href=https://colab.research.google.com/notebooks/data_table.ipynb>data table notebook</a>'\n",
              "            + ' to learn more about interactive tables.';\n",
              "          element.innerHTML = '';\n",
              "          dataTable['output_type'] = 'display_data';\n",
              "          await google.colab.output.renderOutput(dataTable, element);\n",
              "          const docLink = document.createElement('div');\n",
              "          docLink.innerHTML = docLinkHtml;\n",
              "          element.appendChild(docLink);\n",
              "        }\n",
              "      </script>\n",
              "    </div>\n",
              "  </div>\n",
              "  "
            ]
          },
          "metadata": {},
          "execution_count": 135
        }
      ]
    },
    {
      "cell_type": "markdown",
      "source": [
        "#Part 1: Magnitude Basics\n",
        "\n",
        "This file contains a lot of data! There are lots of ways it might be useful for us, but it's unlikely we will be able to (or even want to) read each point one by one.  \n",
        "\n",
        "At this point in our astronomy studies, it is likely that some (or maybe even most) of this data is not meaningful.  Different situations might make different ways of sorting more or less interesting.  But let's try to develop some sense of that these quantities mean by making some graphs and doing some research.\n"
      ],
      "metadata": {
        "id": "SMWdE5up2UrU"
      }
    },
    {
      "cell_type": "code",
      "source": [
        "#sorting data table according to a column\n",
        "#sort the data by magnitude (mag in this data).\n",
        "\n",
        "data.sort_values(\"mag\") #returns our data set sorted by magnitude\n"
      ],
      "metadata": {
        "colab": {
          "base_uri": "https://localhost:8080/",
          "height": 505
        },
        "id": "PsKUlkKx49O3",
        "outputId": "249ac47c-f91e-4417-b34e-f2a26717300c"
      },
      "execution_count": null,
      "outputs": [
        {
          "output_type": "execute_result",
          "data": {
            "text/plain": [
              "                proper         ra        dec     dist    mag  absmag     ci  \\\n",
              "0                  Sol   0.000000   0.000000   0.0000 -26.70   4.850  0.656   \n",
              "10              Sirius   6.752481 -16.716116   2.6371  -1.44   1.454  0.009   \n",
              "22831          Canopus   6.399195 -52.695660  94.7867  -0.62  -5.504  0.164   \n",
              "459           Arcturus  14.261030  19.182410  11.2575  -0.05  -0.307  1.239   \n",
              "2      Rigil Kentaurus  14.660765 -60.833976   1.3248  -0.01   4.379  0.710   \n",
              "...                ...        ...        ...      ...    ...     ...    ...   \n",
              "2015               NaN  11.887989  -7.375136  20.5634  19.40  17.835    NaN   \n",
              "817                NaN  11.363683 -13.218445  14.2450  19.57  18.802    NaN   \n",
              "382                NaN  14.478657  33.176703  10.5263  19.74  19.629    NaN   \n",
              "920                NaN  17.833107  22.683357  14.8810  20.10  19.237    NaN   \n",
              "3122               NaN  14.203219  -0.588179  25.1889  21.00  18.994    NaN   \n",
              "\n",
              "               temp          x          y          z  con           lum  var  \\\n",
              "0       5756.588113   0.000005   0.000000   0.000000  NaN      1.000000  NaN   \n",
              "10     10014.343360  -0.494323   2.476731  -0.758485  CMa     22.824433  NaN   \n",
              "22831   8452.510597  -5.992679  57.132034 -75.396105  Car  13854.791680  NaN   \n",
              "459     4233.601330  -8.823448  -5.932531   3.698938  Boo    115.557996  NaN   \n",
              "2       5567.728737  -0.495203  -0.414084  -1.156625  Cen      1.543121  NaN   \n",
              "...             ...        ...        ...        ...  ...           ...  ...   \n",
              "2015            NaN -20.384510   0.597944  -2.639625  NaN      0.000006  NaN   \n",
              "817             NaN -13.677072   2.299785  -3.257674  NaN      0.000003  NaN   \n",
              "382             NaN  -7.018974  -5.323617   5.759645  NaN      0.000001  NaN   \n",
              "920             NaN  -0.599918 -13.716844   5.738679  NaN      0.000002  NaN   \n",
              "3122            NaN -21.112509 -13.735931  -0.258576  NaN      0.000002  NaN   \n",
              "\n",
              "       var_min  var_max  \n",
              "0          NaN      NaN  \n",
              "10      -1.333   -1.523  \n",
              "22831   -0.547   -0.667  \n",
              "459        NaN      NaN  \n",
              "2        0.113   -0.087  \n",
              "...        ...      ...  \n",
              "2015       NaN      NaN  \n",
              "817        NaN      NaN  \n",
              "382        NaN      NaN  \n",
              "920        NaN      NaN  \n",
              "3122       NaN      NaN  \n",
              "\n",
              "[119614 rows x 16 columns]"
            ],
            "text/html": [
              "\n",
              "  <div id=\"df-be02e1d1-40cd-4074-a872-c83dd980d23b\">\n",
              "    <div class=\"colab-df-container\">\n",
              "      <div>\n",
              "<style scoped>\n",
              "    .dataframe tbody tr th:only-of-type {\n",
              "        vertical-align: middle;\n",
              "    }\n",
              "\n",
              "    .dataframe tbody tr th {\n",
              "        vertical-align: top;\n",
              "    }\n",
              "\n",
              "    .dataframe thead th {\n",
              "        text-align: right;\n",
              "    }\n",
              "</style>\n",
              "<table border=\"1\" class=\"dataframe\">\n",
              "  <thead>\n",
              "    <tr style=\"text-align: right;\">\n",
              "      <th></th>\n",
              "      <th>proper</th>\n",
              "      <th>ra</th>\n",
              "      <th>dec</th>\n",
              "      <th>dist</th>\n",
              "      <th>mag</th>\n",
              "      <th>absmag</th>\n",
              "      <th>ci</th>\n",
              "      <th>temp</th>\n",
              "      <th>x</th>\n",
              "      <th>y</th>\n",
              "      <th>z</th>\n",
              "      <th>con</th>\n",
              "      <th>lum</th>\n",
              "      <th>var</th>\n",
              "      <th>var_min</th>\n",
              "      <th>var_max</th>\n",
              "    </tr>\n",
              "  </thead>\n",
              "  <tbody>\n",
              "    <tr>\n",
              "      <th>0</th>\n",
              "      <td>Sol</td>\n",
              "      <td>0.000000</td>\n",
              "      <td>0.000000</td>\n",
              "      <td>0.0000</td>\n",
              "      <td>-26.70</td>\n",
              "      <td>4.850</td>\n",
              "      <td>0.656</td>\n",
              "      <td>5756.588113</td>\n",
              "      <td>0.000005</td>\n",
              "      <td>0.000000</td>\n",
              "      <td>0.000000</td>\n",
              "      <td>NaN</td>\n",
              "      <td>1.000000</td>\n",
              "      <td>NaN</td>\n",
              "      <td>NaN</td>\n",
              "      <td>NaN</td>\n",
              "    </tr>\n",
              "    <tr>\n",
              "      <th>10</th>\n",
              "      <td>Sirius</td>\n",
              "      <td>6.752481</td>\n",
              "      <td>-16.716116</td>\n",
              "      <td>2.6371</td>\n",
              "      <td>-1.44</td>\n",
              "      <td>1.454</td>\n",
              "      <td>0.009</td>\n",
              "      <td>10014.343360</td>\n",
              "      <td>-0.494323</td>\n",
              "      <td>2.476731</td>\n",
              "      <td>-0.758485</td>\n",
              "      <td>CMa</td>\n",
              "      <td>22.824433</td>\n",
              "      <td>NaN</td>\n",
              "      <td>-1.333</td>\n",
              "      <td>-1.523</td>\n",
              "    </tr>\n",
              "    <tr>\n",
              "      <th>22831</th>\n",
              "      <td>Canopus</td>\n",
              "      <td>6.399195</td>\n",
              "      <td>-52.695660</td>\n",
              "      <td>94.7867</td>\n",
              "      <td>-0.62</td>\n",
              "      <td>-5.504</td>\n",
              "      <td>0.164</td>\n",
              "      <td>8452.510597</td>\n",
              "      <td>-5.992679</td>\n",
              "      <td>57.132034</td>\n",
              "      <td>-75.396105</td>\n",
              "      <td>Car</td>\n",
              "      <td>13854.791680</td>\n",
              "      <td>NaN</td>\n",
              "      <td>-0.547</td>\n",
              "      <td>-0.667</td>\n",
              "    </tr>\n",
              "    <tr>\n",
              "      <th>459</th>\n",
              "      <td>Arcturus</td>\n",
              "      <td>14.261030</td>\n",
              "      <td>19.182410</td>\n",
              "      <td>11.2575</td>\n",
              "      <td>-0.05</td>\n",
              "      <td>-0.307</td>\n",
              "      <td>1.239</td>\n",
              "      <td>4233.601330</td>\n",
              "      <td>-8.823448</td>\n",
              "      <td>-5.932531</td>\n",
              "      <td>3.698938</td>\n",
              "      <td>Boo</td>\n",
              "      <td>115.557996</td>\n",
              "      <td>NaN</td>\n",
              "      <td>NaN</td>\n",
              "      <td>NaN</td>\n",
              "    </tr>\n",
              "    <tr>\n",
              "      <th>2</th>\n",
              "      <td>Rigil Kentaurus</td>\n",
              "      <td>14.660765</td>\n",
              "      <td>-60.833976</td>\n",
              "      <td>1.3248</td>\n",
              "      <td>-0.01</td>\n",
              "      <td>4.379</td>\n",
              "      <td>0.710</td>\n",
              "      <td>5567.728737</td>\n",
              "      <td>-0.495203</td>\n",
              "      <td>-0.414084</td>\n",
              "      <td>-1.156625</td>\n",
              "      <td>Cen</td>\n",
              "      <td>1.543121</td>\n",
              "      <td>NaN</td>\n",
              "      <td>0.113</td>\n",
              "      <td>-0.087</td>\n",
              "    </tr>\n",
              "    <tr>\n",
              "      <th>...</th>\n",
              "      <td>...</td>\n",
              "      <td>...</td>\n",
              "      <td>...</td>\n",
              "      <td>...</td>\n",
              "      <td>...</td>\n",
              "      <td>...</td>\n",
              "      <td>...</td>\n",
              "      <td>...</td>\n",
              "      <td>...</td>\n",
              "      <td>...</td>\n",
              "      <td>...</td>\n",
              "      <td>...</td>\n",
              "      <td>...</td>\n",
              "      <td>...</td>\n",
              "      <td>...</td>\n",
              "      <td>...</td>\n",
              "    </tr>\n",
              "    <tr>\n",
              "      <th>2015</th>\n",
              "      <td>NaN</td>\n",
              "      <td>11.887989</td>\n",
              "      <td>-7.375136</td>\n",
              "      <td>20.5634</td>\n",
              "      <td>19.40</td>\n",
              "      <td>17.835</td>\n",
              "      <td>NaN</td>\n",
              "      <td>NaN</td>\n",
              "      <td>-20.384510</td>\n",
              "      <td>0.597944</td>\n",
              "      <td>-2.639625</td>\n",
              "      <td>NaN</td>\n",
              "      <td>0.000006</td>\n",
              "      <td>NaN</td>\n",
              "      <td>NaN</td>\n",
              "      <td>NaN</td>\n",
              "    </tr>\n",
              "    <tr>\n",
              "      <th>817</th>\n",
              "      <td>NaN</td>\n",
              "      <td>11.363683</td>\n",
              "      <td>-13.218445</td>\n",
              "      <td>14.2450</td>\n",
              "      <td>19.57</td>\n",
              "      <td>18.802</td>\n",
              "      <td>NaN</td>\n",
              "      <td>NaN</td>\n",
              "      <td>-13.677072</td>\n",
              "      <td>2.299785</td>\n",
              "      <td>-3.257674</td>\n",
              "      <td>NaN</td>\n",
              "      <td>0.000003</td>\n",
              "      <td>NaN</td>\n",
              "      <td>NaN</td>\n",
              "      <td>NaN</td>\n",
              "    </tr>\n",
              "    <tr>\n",
              "      <th>382</th>\n",
              "      <td>NaN</td>\n",
              "      <td>14.478657</td>\n",
              "      <td>33.176703</td>\n",
              "      <td>10.5263</td>\n",
              "      <td>19.74</td>\n",
              "      <td>19.629</td>\n",
              "      <td>NaN</td>\n",
              "      <td>NaN</td>\n",
              "      <td>-7.018974</td>\n",
              "      <td>-5.323617</td>\n",
              "      <td>5.759645</td>\n",
              "      <td>NaN</td>\n",
              "      <td>0.000001</td>\n",
              "      <td>NaN</td>\n",
              "      <td>NaN</td>\n",
              "      <td>NaN</td>\n",
              "    </tr>\n",
              "    <tr>\n",
              "      <th>920</th>\n",
              "      <td>NaN</td>\n",
              "      <td>17.833107</td>\n",
              "      <td>22.683357</td>\n",
              "      <td>14.8810</td>\n",
              "      <td>20.10</td>\n",
              "      <td>19.237</td>\n",
              "      <td>NaN</td>\n",
              "      <td>NaN</td>\n",
              "      <td>-0.599918</td>\n",
              "      <td>-13.716844</td>\n",
              "      <td>5.738679</td>\n",
              "      <td>NaN</td>\n",
              "      <td>0.000002</td>\n",
              "      <td>NaN</td>\n",
              "      <td>NaN</td>\n",
              "      <td>NaN</td>\n",
              "    </tr>\n",
              "    <tr>\n",
              "      <th>3122</th>\n",
              "      <td>NaN</td>\n",
              "      <td>14.203219</td>\n",
              "      <td>-0.588179</td>\n",
              "      <td>25.1889</td>\n",
              "      <td>21.00</td>\n",
              "      <td>18.994</td>\n",
              "      <td>NaN</td>\n",
              "      <td>NaN</td>\n",
              "      <td>-21.112509</td>\n",
              "      <td>-13.735931</td>\n",
              "      <td>-0.258576</td>\n",
              "      <td>NaN</td>\n",
              "      <td>0.000002</td>\n",
              "      <td>NaN</td>\n",
              "      <td>NaN</td>\n",
              "      <td>NaN</td>\n",
              "    </tr>\n",
              "  </tbody>\n",
              "</table>\n",
              "<p>119614 rows × 16 columns</p>\n",
              "</div>\n",
              "      <button class=\"colab-df-convert\" onclick=\"convertToInteractive('df-be02e1d1-40cd-4074-a872-c83dd980d23b')\"\n",
              "              title=\"Convert this dataframe to an interactive table.\"\n",
              "              style=\"display:none;\">\n",
              "        \n",
              "  <svg xmlns=\"http://www.w3.org/2000/svg\" height=\"24px\"viewBox=\"0 0 24 24\"\n",
              "       width=\"24px\">\n",
              "    <path d=\"M0 0h24v24H0V0z\" fill=\"none\"/>\n",
              "    <path d=\"M18.56 5.44l.94 2.06.94-2.06 2.06-.94-2.06-.94-.94-2.06-.94 2.06-2.06.94zm-11 1L8.5 8.5l.94-2.06 2.06-.94-2.06-.94L8.5 2.5l-.94 2.06-2.06.94zm10 10l.94 2.06.94-2.06 2.06-.94-2.06-.94-.94-2.06-.94 2.06-2.06.94z\"/><path d=\"M17.41 7.96l-1.37-1.37c-.4-.4-.92-.59-1.43-.59-.52 0-1.04.2-1.43.59L10.3 9.45l-7.72 7.72c-.78.78-.78 2.05 0 2.83L4 21.41c.39.39.9.59 1.41.59.51 0 1.02-.2 1.41-.59l7.78-7.78 2.81-2.81c.8-.78.8-2.07 0-2.86zM5.41 20L4 18.59l7.72-7.72 1.47 1.35L5.41 20z\"/>\n",
              "  </svg>\n",
              "      </button>\n",
              "      \n",
              "  <style>\n",
              "    .colab-df-container {\n",
              "      display:flex;\n",
              "      flex-wrap:wrap;\n",
              "      gap: 12px;\n",
              "    }\n",
              "\n",
              "    .colab-df-convert {\n",
              "      background-color: #E8F0FE;\n",
              "      border: none;\n",
              "      border-radius: 50%;\n",
              "      cursor: pointer;\n",
              "      display: none;\n",
              "      fill: #1967D2;\n",
              "      height: 32px;\n",
              "      padding: 0 0 0 0;\n",
              "      width: 32px;\n",
              "    }\n",
              "\n",
              "    .colab-df-convert:hover {\n",
              "      background-color: #E2EBFA;\n",
              "      box-shadow: 0px 1px 2px rgba(60, 64, 67, 0.3), 0px 1px 3px 1px rgba(60, 64, 67, 0.15);\n",
              "      fill: #174EA6;\n",
              "    }\n",
              "\n",
              "    [theme=dark] .colab-df-convert {\n",
              "      background-color: #3B4455;\n",
              "      fill: #D2E3FC;\n",
              "    }\n",
              "\n",
              "    [theme=dark] .colab-df-convert:hover {\n",
              "      background-color: #434B5C;\n",
              "      box-shadow: 0px 1px 3px 1px rgba(0, 0, 0, 0.15);\n",
              "      filter: drop-shadow(0px 1px 2px rgba(0, 0, 0, 0.3));\n",
              "      fill: #FFFFFF;\n",
              "    }\n",
              "  </style>\n",
              "\n",
              "      <script>\n",
              "        const buttonEl =\n",
              "          document.querySelector('#df-be02e1d1-40cd-4074-a872-c83dd980d23b button.colab-df-convert');\n",
              "        buttonEl.style.display =\n",
              "          google.colab.kernel.accessAllowed ? 'block' : 'none';\n",
              "\n",
              "        async function convertToInteractive(key) {\n",
              "          const element = document.querySelector('#df-be02e1d1-40cd-4074-a872-c83dd980d23b');\n",
              "          const dataTable =\n",
              "            await google.colab.kernel.invokeFunction('convertToInteractive',\n",
              "                                                     [key], {});\n",
              "          if (!dataTable) return;\n",
              "\n",
              "          const docLinkHtml = 'Like what you see? Visit the ' +\n",
              "            '<a target=\"_blank\" href=https://colab.research.google.com/notebooks/data_table.ipynb>data table notebook</a>'\n",
              "            + ' to learn more about interactive tables.';\n",
              "          element.innerHTML = '';\n",
              "          dataTable['output_type'] = 'display_data';\n",
              "          await google.colab.output.renderOutput(dataTable, element);\n",
              "          const docLink = document.createElement('div');\n",
              "          docLink.innerHTML = docLinkHtml;\n",
              "          element.appendChild(docLink);\n",
              "        }\n",
              "      </script>\n",
              "    </div>\n",
              "  </div>\n",
              "  "
            ]
          },
          "metadata": {},
          "execution_count": 125
        }
      ]
    },
    {
      "cell_type": "markdown",
      "source": [
        "Does this give any hint what magnitude might correspond to?  What can you conclude about how Astronomers define magnitude?\n",
        "\n",
        "Now rewrite the code above to sort by other columns.  Try distance, temperature, ci (color index).  What do you learn?"
      ],
      "metadata": {
        "id": "-2GdmzzW7RTW"
      }
    },
    {
      "cell_type": "code",
      "source": [
        "#some of the data is incomplete.  We will want to ignore the data with no known value for some quantities.\n",
        "# In this case, when distance is unknown, the data table uses 100000.0000.  We will replace these values with NaN.\n",
        "\n",
        "data['dist'] = data['dist'].replace(100000.0000, np.nan) # Python uses the code data.replace to change values in a data set.\n",
        "\n",
        "#we can remove those values\n",
        "data = data.dropna(subset=['dist']) #data.dropna drops specified values.\n",
        "\n",
        "data.shape"
      ],
      "metadata": {
        "colab": {
          "base_uri": "https://localhost:8080/"
        },
        "id": "7pv3EjI-7saN",
        "outputId": "8c86c3ee-cfde-4ebb-eff7-78d3fea44128"
      },
      "execution_count": null,
      "outputs": [
        {
          "output_type": "execute_result",
          "data": {
            "text/plain": [
              "(109399, 16)"
            ]
          },
          "metadata": {},
          "execution_count": 126
        }
      ]
    },
    {
      "cell_type": "code",
      "source": [
        "#How many stars at each magnitude?\n",
        "plt.hist(data['mag'],bins=50)\n",
        "plt.title(\"Magnitude of Stars\")\n",
        "plt.xlabel(\"Magnitude\")\n",
        "plt.ylabel(\"number of stars\")"
      ],
      "metadata": {
        "colab": {
          "base_uri": "https://localhost:8080/",
          "height": 490
        },
        "id": "T7im75_Gs05Q",
        "outputId": "3a21d59b-6b6a-4d66-c211-e10ab8536c8c"
      },
      "execution_count": null,
      "outputs": [
        {
          "output_type": "execute_result",
          "data": {
            "text/plain": [
              "Text(0, 0.5, 'number of stars')"
            ]
          },
          "metadata": {},
          "execution_count": 127
        },
        {
          "output_type": "display_data",
          "data": {
            "text/plain": [
              "<Figure size 640x480 with 1 Axes>"
            ],
            "image/png": "[encoded data removed]"
          },
          "metadata": {}
        }
      ]
    },
    {
      "cell_type": "code",
      "source": [
        "#because the Sun is so bright, the x axis on this histogram is skewed for the non-local stars.\n",
        "#Changing the axes will make it easier to think about how many stars at each magnitude?\n",
        "plt.hist(data['mag'],bins=50, range=[-2,20]) #add a range to cut our view of the data\n",
        "plt.title(\"Magnitude of Stars (not the Sun)\")\n",
        "plt.xlabel(\"Magnitude\")\n",
        "plt.ylabel(\"number of stars\")"
      ],
      "metadata": {
        "colab": {
          "base_uri": "https://localhost:8080/",
          "height": 490
        },
        "id": "fB9QjJCrv6BZ",
        "outputId": "d333502d-9041-4ad1-baf1-8e29f2d98b8f"
      },
      "execution_count": null,
      "outputs": [
        {
          "output_type": "execute_result",
          "data": {
            "text/plain": [
              "Text(0, 0.5, 'number of stars')"
            ]
          },
          "metadata": {},
          "execution_count": 128
        },
        {
          "output_type": "display_data",
          "data": {
            "text/plain": [
              "<Figure size 640x480 with 1 Axes>"
            ],
            "image/png": "[encoded data removed]"
          },
          "metadata": {}
        }
      ]
    },
    {
      "cell_type": "markdown",
      "source": [
        "**Some Questions to Consider, Part 1**\n",
        "1. Is this an accurate depiction of all stars in the universe?\n",
        "2. Why does this distribution have the shape it does?  (That is, why are there fewer very bright and very dim stars?)\n",
        "3. With very dark skies, we can see stars down to magnitude 5 or 6.  Change the parameters in your histogram to show only the stars visible with the naked eye.  Does this histogram have the shape you'd expect?"
      ],
      "metadata": {
        "id": "ob-YNsPKv5qQ"
      }
    },
    {
      "cell_type": "markdown",
      "source": [
        "#Part 2: What does Magnitude Depend on?\n",
        "Now that we have some sense of what Magnitude is, it's reasonable to ask what physical factors determine what it is.  Let's make some graphs and see if we can gain some insight.\n",
        "\n",
        "- See the documentation on [Pyplot's scatterplot function](https://matplotlib.org/3.2.1/api/_as_gen/matplotlib.pyplot.scatter.html) for more details.\n",
        "- When plotting a large number of data points, it can help to specify the size (s) and transparency (alpha) of the points and remove the line around the markers. That might look like this:\n",
        "plt.scatter(x,y, s=1, alpha=.5, edgecolors='none').  \n",
        "Experiment with different values of s, alpha, and edgecolor to see what combination best displays your data."
      ],
      "metadata": {
        "id": "qBi-wMPuxHPC"
      }
    },
    {
      "cell_type": "code",
      "execution_count": null,
      "metadata": {
        "id": "_8l3aa1wUh0i",
        "colab": {
          "base_uri": "https://localhost:8080/",
          "height": 472
        },
        "outputId": "98b1075d-2b67-4b76-c641-5319f6b45306"
      },
      "outputs": [
        {
          "output_type": "display_data",
          "data": {
            "text/plain": [
              "<Figure size 640x480 with 1 Axes>"
            ],
            "image/png": "[encoded data removed]"
          },
          "metadata": {}
        }
      ],
      "source": [
        "#Python lets us make scatter plots with the data set.  Because there are so many data in the set, it will be helpful to set the points to be small (s=1)\n",
        "plt.scatter(data['dist'],data['mag'],s=1,alpha=1, edgecolors='none', color='black')\n",
        "plt.xlabel('distance')\n",
        "plt.ylabel('mag')\n",
        "plt.title('Distance and Magnitude of stars.')\n",
        "plt.grid(False)\n",
        "plt.show()"
      ]
    },
    {
      "cell_type": "markdown",
      "source": [
        "Take a look at this graph.  What can you conclude?\n",
        "- Where are the very dim stars located in space?  Why might that be?\n",
        "- Can you detect any trend in the data?  That is, is there a relationship between distance and magnitude?  State that explicitly."
      ],
      "metadata": {
        "id": "fyNv3AsjAmGy"
      }
    },
    {
      "cell_type": "code",
      "source": [
        "plt.scatter(data['dist'],data['mag'],s=1,alpha=1, edgecolors='none', color='red')\n",
        "plt.xlabel('distance')\n",
        "plt.ylabel('mag')\n",
        "plt.title('Distance and Magnitude of Stars (not the Sun)')\n",
        "plt.grid(False)\n",
        "plt.axis([0,1000,-2,25]) #changing the range to eliminate the sun\n",
        "plt.show()"
      ],
      "metadata": {
        "colab": {
          "base_uri": "https://localhost:8080/",
          "height": 472
        },
        "id": "R5HfMqSVA0TB",
        "outputId": "851e44f8-1349-4649-e36d-bc9fca0d4663"
      },
      "execution_count": null,
      "outputs": [
        {
          "output_type": "display_data",
          "data": {
            "text/plain": [
              "<Figure size 640x480 with 1 Axes>"
            ],
            "image/png": "[encoded data removed]"
          },
          "metadata": {}
        }
      ]
    },
    {
      "cell_type": "markdown",
      "source": [
        "Is there a trend here? Let's try fitting a best fit line.\n",
        "Before we do, let's consider using a smaller set of data.  What set of stars would have the fewest selection effects?"
      ],
      "metadata": {
        "id": "lecl73eSBUeI"
      }
    },
    {
      "cell_type": "code",
      "source": [
        "#define a subset of the data to plot\n",
        "plotdata = data.query('dist < 10') #closer stars only\n",
        "plotdata.shape\n"
      ],
      "metadata": {
        "colab": {
          "base_uri": "https://localhost:8080/"
        },
        "id": "8IvC5Ei5BsZs",
        "outputId": "15dad89a-750a-47fe-8b01-47524be7d5f2"
      },
      "execution_count": null,
      "outputs": [
        {
          "output_type": "execute_result",
          "data": {
            "text/plain": [
              "(323, 16)"
            ]
          },
          "metadata": {},
          "execution_count": 60
        }
      ]
    },
    {
      "cell_type": "code",
      "source": [
        "# Fit a line to the data\n",
        "# specifying the degree of the polynomial fit to be 1 makes it a linear fit.\n",
        "m, b = np.polyfit(plotdata['dist'], plotdata['mag'], 1)\n",
        "\n",
        "# Create a sequence of x values spanning the range of 'the distance values'\n",
        "x = np.linspace(plotdata['dist'].min(), plotdata['dist'].max(), 100)\n",
        "\n",
        "# Calculate the corresponding y values for the fitted line\n",
        "y = m * x + b\n",
        "\n",
        "#make the graph again\n",
        "plt.scatter(plotdata['dist'],plotdata['mag'],s=1,alpha=1, edgecolors='none', color='black')\n",
        "plt.plot(x,y,color='red')\n",
        "plt.xlabel('distance')\n",
        "plt.ylabel('mag')\n",
        "plt.title('Distance and Magnitude of Close Stars')\n",
        "plt.grid(False)\n",
        "plt.axis([0,12,-30,15])\n",
        "print (m,b)\n",
        "plt.show()"
      ],
      "metadata": {
        "colab": {
          "base_uri": "https://localhost:8080/",
          "height": 490
        },
        "id": "OpOPkFAJ0rs3",
        "outputId": "da251f7b-4afc-4134-b2f2-36f4a777936b"
      },
      "execution_count": null,
      "outputs": [
        {
          "output_type": "stream",
          "name": "stdout",
          "text": [
            "0.4484448516178857 7.019243421382129\n"
          ]
        },
        {
          "output_type": "display_data",
          "data": {
            "text/plain": [
              "<Figure size 640x480 with 1 Axes>"
            ],
            "image/png": "[encoded data removed]"
          },
          "metadata": {}
        }
      ]
    },
    {
      "cell_type": "markdown",
      "source": [
        "**Some Questions to Consider, Part 2**\n",
        "\n",
        "In addition to distance, it should make sense to you that magnitude depends on some *intrinsic* properties of the star.\n",
        "- What do we mean by intrinsic properties? List a few intrinsic star properties.\n",
        "- Which factors will affect brightness?  Make some graphs to see if you are correct.\n",
        "\n",
        "\n"
      ],
      "metadata": {
        "id": "DJB2xuOtzfft"
      }
    },
    {
      "cell_type": "markdown",
      "source": [
        "#Part 3: Absolute Magnitude\n",
        "\n",
        "As we have seen, magnitude is specific to the observer and not dependent (exclusively) on the intrinsic properties of the star. In order to remove the affect of distance and come up with a metric that describes only the inherent brightness of the star, we define *absolute magnitude*.\n",
        "\n",
        "**Absolute Magnitude** is the magnitude a star would have if it were 10 parsecs away from Earth.  That is, it puts all stars on equal footing with regards to distane and allows us to compare apples to apples.\n",
        "\n",
        "Using the data table and sorts we have already done, determine the absolute magnitude of the Sun.  How does this compare to other stars in our list?  To answer this, we might want to make another histogram."
      ],
      "metadata": {
        "id": "mW9uoceTAbsh"
      }
    },
    {
      "cell_type": "code",
      "source": [
        "#make histogram of absolute magnitude data\n",
        "plt.hist(data['absmag'],bins=50)\n",
        "plt.title(\"Absolute Magnitude of Stars\")\n",
        "plt.xlabel(\"Absolute Magnitude\")\n",
        "plt.ylabel(\"number of stars\")\n",
        "plt.annotate(\"Sun\", xy=(4.8, 5000), xytext=(8, 8000), arrowprops=dict(facecolor='black', shrink=0.05)) #adds an annotation for the Sun"
      ],
      "metadata": {
        "colab": {
          "base_uri": "https://localhost:8080/",
          "height": 490
        },
        "id": "DLCEi9adCK02",
        "outputId": "dd42ae6a-654c-4e61-ab81-4b1469e71f94"
      },
      "execution_count": null,
      "outputs": [
        {
          "output_type": "execute_result",
          "data": {
            "text/plain": [
              "Text(8, 8000, 'Sun')"
            ]
          },
          "metadata": {},
          "execution_count": 90
        },
        {
          "output_type": "display_data",
          "data": {
            "text/plain": [
              "<Figure size 640x480 with 1 Axes>"
            ],
            "image/png": "[encoded data removed]"
          },
          "metadata": {}
        }
      ]
    },
    {
      "cell_type": "markdown",
      "source": [
        "- Using the results from our histogram, explain why some might describe our beloved Sun as \"average.\"\n",
        "\n",
        "Let's investigate a few questions about absolute magnitude by making some plots."
      ],
      "metadata": {
        "id": "r4Pq5MWRDhxG"
      }
    },
    {
      "cell_type": "code",
      "source": [
        "#what is the relationship between absolute magnitude and apparent magnitude?\n",
        "plt.scatter(data['absmag'],data['mag'],s=1,alpha=1, edgecolors='none', color='red')\n",
        "plt.xlabel('Absolute Magnitude')\n",
        "plt.ylabel('Apparent Magnitude')\n",
        "plt.title('Apparent and Absolute Magnitude')\n",
        "plt.grid(False)\n",
        "plt.show()"
      ],
      "metadata": {
        "colab": {
          "base_uri": "https://localhost:8080/",
          "height": 472
        },
        "id": "oNixunj4DhSU",
        "outputId": "cfdcf39d-36f4-446e-c285-83a49b400bcb"
      },
      "execution_count": null,
      "outputs": [
        {
          "output_type": "display_data",
          "data": {
            "text/plain": [
              "<Figure size 640x480 with 1 Axes>"
            ],
            "image/png": "[encoded data removed]"
          },
          "metadata": {}
        }
      ]
    },
    {
      "cell_type": "code",
      "source": [
        "#what about absolute magnitude and luminosity?\n",
        "plt.scatter(data['absmag'],data['lum'],s=3,alpha=1, edgecolors='none', color='red')\n",
        "plt.xlabel('Absolute Magnitude')\n",
        "plt.ylabel('Luminosity')\n",
        "plt.title('Luminosity and Absolute Magnitude')\n",
        "plt.grid(False)\n",
        "plt.show()"
      ],
      "metadata": {
        "colab": {
          "base_uri": "https://localhost:8080/",
          "height": 472
        },
        "id": "s50yfUwcFNCA",
        "outputId": "9a23c25e-04b8-45e0-fb4b-b187408fb553"
      },
      "execution_count": null,
      "outputs": [
        {
          "output_type": "display_data",
          "data": {
            "text/plain": [
              "<Figure size 640x480 with 1 Axes>"
            ],
            "image/png": "[encoded data removed]"
          },
          "metadata": {}
        }
      ]
    },
    {
      "cell_type": "markdown",
      "source": [
        "**Some Questions to Consider, Part 3**\n",
        "- Using these plots, what can we conclude about *luminosity*?\n",
        "- What role does *temperature* play in the brightness of a star?\n",
        "- What other factors (not in the data set) might be important?"
      ],
      "metadata": {
        "id": "CNzWbQfwFdAb"
      }
    },
    {
      "cell_type": "markdown",
      "source": [
        "#Part 4: Constellations and Star Separations\n",
        "\n",
        "It is human nature to seek patterns.  Every culture throughout human history has looked to the stars and seen their stories reflected and honored in the patterns of the brightest stars.\n",
        "\n",
        "Because systems of power have privileged the cultural traditions that made it to Europe, the International Astronmers Union (IAU) has adopted 88 official constellations that are largely informed by star names from the Middle East and constellations from Europe (lots of Greek mythology!).  \n",
        "\n",
        "You can find a list of the 88 \"official\" constellations along with their abbreviations (used in our data set) [here](https://skyandtelescope.org/astronomy-resources/constellation-names-and-abbreviations/)."
      ],
      "metadata": {
        "id": "4fIuBxbDJDk4"
      }
    },
    {
      "cell_type": "code",
      "source": [
        "#we can select the stars in a particular constellation\n",
        "Orion = data[(data['con'] == 'Ori')]\n",
        "Orion.shape"
      ],
      "metadata": {
        "colab": {
          "base_uri": "https://localhost:8080/"
        },
        "id": "QYelVqcFJIax",
        "outputId": "523a2c1f-7336-43d1-f1dd-e82b14ed1d2d"
      },
      "execution_count": null,
      "outputs": [
        {
          "output_type": "execute_result",
          "data": {
            "text/plain": [
              "(1790, 16)"
            ]
          },
          "metadata": {},
          "execution_count": 67
        }
      ]
    },
    {
      "cell_type": "code",
      "source": [
        "#if we want only the bright stars, we can have another cut\n",
        "brightOri = Orion[(Orion['mag'] < 5)]\n",
        "brightOri.shape"
      ],
      "metadata": {
        "colab": {
          "base_uri": "https://localhost:8080/"
        },
        "id": "jQsowbBTJg-Z",
        "outputId": "74a00cc0-b73d-48ee-a473-e22657255ae5"
      },
      "execution_count": null,
      "outputs": [
        {
          "output_type": "execute_result",
          "data": {
            "text/plain": [
              "(49, 16)"
            ]
          },
          "metadata": {},
          "execution_count": 68
        }
      ]
    },
    {
      "cell_type": "code",
      "source": [
        "#or maybe only the named stars\n",
        "namedOri= Orion[Orion['proper'].notnull()]\n",
        "namedOri.shape"
      ],
      "metadata": {
        "colab": {
          "base_uri": "https://localhost:8080/"
        },
        "id": "7gWlHpUcKrbV",
        "outputId": "1fc40ef3-473d-41c2-8602-db28112cc111"
      },
      "execution_count": null,
      "outputs": [
        {
          "output_type": "execute_result",
          "data": {
            "text/plain": [
              "(8, 16)"
            ]
          },
          "metadata": {},
          "execution_count": 69
        }
      ]
    },
    {
      "cell_type": "code",
      "source": [
        "#that's a more manageable number of stars! Do we recognize any of their (IAU) names?\n",
        "print(namedOri)"
      ],
      "metadata": {
        "colab": {
          "base_uri": "https://localhost:8080/"
        },
        "id": "8Lix6sSDKAV4",
        "outputId": "6d7436d0-200c-461e-8b54-c9d46ce84f4c"
      },
      "execution_count": null,
      "outputs": [
        {
          "output_type": "stream",
          "name": "stdout",
          "text": [
            "            proper        ra       dec      dist   mag  absmag     ci  \\\n",
            "17005    Bellatrix  5.418851  6.349702   77.3994  1.64  -2.804 -0.224   \n",
            "42575   Betelgeuse  5.919529  7.407063  152.6718  0.45  -5.469  1.500   \n",
            "55819        Saiph  5.795941 -9.669605  198.4127  2.07  -4.418 -0.168   \n",
            "59435      Mintaka  5.533445 -0.299092  212.3142  2.25  -4.385 -0.175   \n",
            "62798      Alnitak  5.679313 -1.942572  225.7336  1.74  -5.028 -0.199   \n",
            "71263        Rigel  5.242298 -8.201640  264.5503  0.18  -6.933 -0.030   \n",
            "102356     Alnilam  5.603559 -1.201920  606.0606  1.69  -7.223 -0.184   \n",
            "105370      Hatsya  5.590551 -5.909901  714.2857  2.75  -6.519 -0.210   \n",
            "\n",
            "                temp          x           y          z  con           lum  \\\n",
            "17005   14192.406080  11.658576   76.036136   8.560120  Ori   1152.391377   \n",
            "42575    3793.506494   3.189296  151.364387  19.682142  Ori  13415.287980   \n",
            "55819   12859.619950  10.444137  195.314937 -33.326707  Ori   5095.654806   \n",
            "59435   13010.740360  25.868117  210.729667  -1.108306  Ori   4943.106870   \n",
            "62798   13560.703670  18.918488  224.809409  -7.651875  Ori   8937.169609   \n",
            "71263   10515.561780  51.601106  256.709905 -37.740051  Ori  51665.424260   \n",
            "102356  13211.014570  62.775122  602.666910 -12.712683  Ori  67483.873090   \n",
            "105370  13830.709100  76.014147  706.411475 -73.546040  Ori  35285.802580   \n",
            "\n",
            "        var  var_min  var_max  \n",
            "17005   NaN      NaN      NaN  \n",
            "42575   Alp    0.571    0.281  \n",
            "55819   NaN      NaN      NaN  \n",
            "59435   Del    2.334    2.234  \n",
            "62798   NaN      NaN      NaN  \n",
            "71263   NaN      NaN      NaN  \n",
            "102356  Eps    1.717    1.667  \n",
            "105370  NaN      NaN      NaN  \n"
          ]
        }
      ]
    },
    {
      "cell_type": "code",
      "source": [
        "#to see the pattern, we will need to use another tool\n",
        "import geopandas as gpd #a tool for plotting coordinates\n",
        "fig = plt.figure(facecolor='gray')\n",
        "fig, ax = plt.subplots(figsize=(7,10)) #this will need to be adjusted to give the approximate proportions of the constellation\n",
        "plt.axis('off')\n",
        "x = namedOri['ra']\n",
        "y = namedOri['dec']\n",
        "ax.scatter(x,y, s=8, color='black')    # this adds the scatter points\n",
        "fig.patch.set_facecolor('gray')\n",
        "fig.patch.set_edgecolor('gray')"
      ],
      "metadata": {
        "colab": {
          "base_uri": "https://localhost:8080/",
          "height": 825
        },
        "id": "BTFVutLlNTxQ",
        "outputId": "6a1f8e3d-f739-4316-8e5f-9c82f88d06a7"
      },
      "execution_count": null,
      "outputs": [
        {
          "output_type": "display_data",
          "data": {
            "text/plain": [
              "<Figure size 640x480 with 0 Axes>"
            ]
          },
          "metadata": {}
        },
        {
          "output_type": "display_data",
          "data": {
            "text/plain": [
              "<Figure size 700x1000 with 1 Axes>"
            ],
            "image/png": "[encoded data removed]"
          },
          "metadata": {}
        }
      ]
    },
    {
      "cell_type": "markdown",
      "source": [
        "This should result in a recognizable pattern.\n",
        "\n",
        "**Questions to Consider, Part 4**\n",
        "1. Try the above for different constellation patterns.  Which are recognizable?  \n",
        "2.  Which constellations are visible where we are?\n",
        "3.  Learning constellations can help with navigation and communication of astronomical phenomena.  Why might we need other tools to help us talk to other scientists and find our way?"
      ],
      "metadata": {
        "id": "R3M0D6jtusys"
      }
    },
    {
      "cell_type": "markdown",
      "source": [
        "#Part 5: Right Ascension and Declination\n",
        "\n",
        "Just as we can identify points on the Earth with their latitude and longitude, points on the celestial sphere can be identified with Right Ascension (RA) and Declination (dec).\n",
        "\n",
        "Do some research or consult your notes to determine the answer to these questions.\n",
        "1. The reference line for latitude on the Earth is the equator.  What is the reference line for declination?\n",
        "2. Latitude is measured in degrees, with values going from 90 degrees South latitude at the south pole, 0 degrees at the equator, and 90 degrees North latitude at the north pole.  What units are declination measured in?  What are the values of declination at any \"special\" points or lines?\n",
        "3. The reference line for longitude is the Prime Meridian, which runs from one pole to the other passing through Greenwich, England, France, Spain, Algeria, Mali, Burkina Faso, Togo, and Ghana.  What is the reference line for Right Ascension?\n",
        "4. Longitude is measured in degrees, with values going from 180 degrees east of the Prime Meridian to 180 degrees West of the Prime Meridian. What units do astronomers use for RA?  What are the values of RA at any \"special\" points or lines?\n",
        "5. Why are these quantities measured in angles and not in some other unit of distance?  \n",
        "\n",
        "\n"
      ],
      "metadata": {
        "id": "EiTaPJesIlLa"
      }
    },
    {
      "cell_type": "code",
      "source": [
        "#choose a constellation you know is visible at our location.\n",
        "#create a file with the stars in that constellation (see above for examples), then sort by RA and declination\n",
        "#make note of the range of ra and dec values for each constellation you consider\n",
        "Aquarius = data[(data['con'] == 'Aqr')] #choosing Aquarius, which is not a good choice\n",
        "Aquarius.sort_values(by='ra') #sorting by ra first"
      ],
      "metadata": {
        "colab": {
          "base_uri": "https://localhost:8080/",
          "height": 488
        },
        "id": "SL70rY9T1olR",
        "outputId": "dfeb37b3-730f-4af5-db25-f26cb703e605"
      },
      "execution_count": null,
      "outputs": [
        {
          "output_type": "execute_result",
          "data": {
            "text/plain": [
              "       proper         ra        dec      dist   mag  absmag     ci  \\\n",
              "42161     NaN  20.643531  -0.081267  151.5152  9.17   3.268  0.495   \n",
              "21999     NaN  20.649239  -8.399356   92.3361  7.74   2.913  0.369   \n",
              "16104     NaN  20.651628  -4.929494   74.4048  6.46   2.102  1.016   \n",
              "100158    NaN  20.653681  -2.412975  549.4505  6.23  -2.470 -0.090   \n",
              "80096     NaN  20.654939  -6.190876  313.4796  7.47  -0.011  1.530   \n",
              "...       ...        ...        ...       ...   ...     ...    ...   \n",
              "38334     NaN  23.933739 -12.487534  139.8601  8.06   2.332  0.456   \n",
              "90756     NaN  23.935329 -21.992062  401.6064  7.24  -0.779  1.623   \n",
              "89747     NaN  23.935540 -18.006823  392.1569  9.15   1.183  0.214   \n",
              "78853     NaN  23.937617 -13.511216  306.7485  8.95   1.516  0.395   \n",
              "9281      NaN  23.939262  -9.499158   51.9751  8.20   4.621  0.778   \n",
              "\n",
              "                temp           x           y           z  con         lum  \\\n",
              "42161    6411.652779   96.687203 -116.655022   -0.214906  Aqr    4.293387   \n",
              "21999    7049.740446   58.396003  -70.242037  -13.487710  Aqr    5.953879   \n",
              "16104    4704.648194   47.425645  -56.973717   -6.393590  Aqr   12.566085   \n",
              "100158  11407.341300  351.435022 -421.727410  -23.132914  Aqr  847.227414   \n",
              "80096    3748.934037  199.591767 -239.352758  -33.805968  Aqr   87.983250   \n",
              "...              ...         ...         ...         ...  ...         ...   \n",
              "38334    6595.421996  136.530895   -2.368640  -30.241557  Aqr   10.167168   \n",
              "90756    3617.413931  372.330417   -6.304463 -150.392803  Aqr  178.484292   \n",
              "89747    8056.216853  372.895837   -6.293467 -121.227560  Aqr   29.295438   \n",
              "78853    6906.979205  298.219215   -4.870872  -71.667403  Aqr   21.557580   \n",
              "9281     5347.895072   51.256260   -0.815115   -8.577666  Aqr    1.234810   \n",
              "\n",
              "        var  var_min  var_max  \n",
              "42161   NaN      NaN      NaN  \n",
              "21999   NaN      NaN      NaN  \n",
              "16104   NaN      NaN      NaN  \n",
              "100158  NaN      NaN      NaN  \n",
              "80096   NaN      NaN      NaN  \n",
              "...     ...      ...      ...  \n",
              "38334   NaN      NaN      NaN  \n",
              "90756    LX     7.29     7.18  \n",
              "89747   NaN      NaN      NaN  \n",
              "78853   NaN      NaN      NaN  \n",
              "9281    NaN      NaN      NaN  \n",
              "\n",
              "[2010 rows x 16 columns]"
            ],
            "text/html": [
              "\n",
              "  <div id=\"df-9d03e50e-bdde-4774-bec4-e79a47abe575\">\n",
              "    <div class=\"colab-df-container\">\n",
              "      <div>\n",
              "<style scoped>\n",
              "    .dataframe tbody tr th:only-of-type {\n",
              "        vertical-align: middle;\n",
              "    }\n",
              "\n",
              "    .dataframe tbody tr th {\n",
              "        vertical-align: top;\n",
              "    }\n",
              "\n",
              "    .dataframe thead th {\n",
              "        text-align: right;\n",
              "    }\n",
              "</style>\n",
              "<table border=\"1\" class=\"dataframe\">\n",
              "  <thead>\n",
              "    <tr style=\"text-align: right;\">\n",
              "      <th></th>\n",
              "      <th>proper</th>\n",
              "      <th>ra</th>\n",
              "      <th>dec</th>\n",
              "      <th>dist</th>\n",
              "      <th>mag</th>\n",
              "      <th>absmag</th>\n",
              "      <th>ci</th>\n",
              "      <th>temp</th>\n",
              "      <th>x</th>\n",
              "      <th>y</th>\n",
              "      <th>z</th>\n",
              "      <th>con</th>\n",
              "      <th>lum</th>\n",
              "      <th>var</th>\n",
              "      <th>var_min</th>\n",
              "      <th>var_max</th>\n",
              "    </tr>\n",
              "  </thead>\n",
              "  <tbody>\n",
              "    <tr>\n",
              "      <th>42161</th>\n",
              "      <td>NaN</td>\n",
              "      <td>20.643531</td>\n",
              "      <td>-0.081267</td>\n",
              "      <td>151.5152</td>\n",
              "      <td>9.17</td>\n",
              "      <td>3.268</td>\n",
              "      <td>0.495</td>\n",
              "      <td>6411.652779</td>\n",
              "      <td>96.687203</td>\n",
              "      <td>-116.655022</td>\n",
              "      <td>-0.214906</td>\n",
              "      <td>Aqr</td>\n",
              "      <td>4.293387</td>\n",
              "      <td>NaN</td>\n",
              "      <td>NaN</td>\n",
              "      <td>NaN</td>\n",
              "    </tr>\n",
              "    <tr>\n",
              "      <th>21999</th>\n",
              "      <td>NaN</td>\n",
              "      <td>20.649239</td>\n",
              "      <td>-8.399356</td>\n",
              "      <td>92.3361</td>\n",
              "      <td>7.74</td>\n",
              "      <td>2.913</td>\n",
              "      <td>0.369</td>\n",
              "      <td>7049.740446</td>\n",
              "      <td>58.396003</td>\n",
              "      <td>-70.242037</td>\n",
              "      <td>-13.487710</td>\n",
              "      <td>Aqr</td>\n",
              "      <td>5.953879</td>\n",
              "      <td>NaN</td>\n",
              "      <td>NaN</td>\n",
              "      <td>NaN</td>\n",
              "    </tr>\n",
              "    <tr>\n",
              "      <th>16104</th>\n",
              "      <td>NaN</td>\n",
              "      <td>20.651628</td>\n",
              "      <td>-4.929494</td>\n",
              "      <td>74.4048</td>\n",
              "      <td>6.46</td>\n",
              "      <td>2.102</td>\n",
              "      <td>1.016</td>\n",
              "      <td>4704.648194</td>\n",
              "      <td>47.425645</td>\n",
              "      <td>-56.973717</td>\n",
              "      <td>-6.393590</td>\n",
              "      <td>Aqr</td>\n",
              "      <td>12.566085</td>\n",
              "      <td>NaN</td>\n",
              "      <td>NaN</td>\n",
              "      <td>NaN</td>\n",
              "    </tr>\n",
              "    <tr>\n",
              "      <th>100158</th>\n",
              "      <td>NaN</td>\n",
              "      <td>20.653681</td>\n",
              "      <td>-2.412975</td>\n",
              "      <td>549.4505</td>\n",
              "      <td>6.23</td>\n",
              "      <td>-2.470</td>\n",
              "      <td>-0.090</td>\n",
              "      <td>11407.341300</td>\n",
              "      <td>351.435022</td>\n",
              "      <td>-421.727410</td>\n",
              "      <td>-23.132914</td>\n",
              "      <td>Aqr</td>\n",
              "      <td>847.227414</td>\n",
              "      <td>NaN</td>\n",
              "      <td>NaN</td>\n",
              "      <td>NaN</td>\n",
              "    </tr>\n",
              "    <tr>\n",
              "      <th>80096</th>\n",
              "      <td>NaN</td>\n",
              "      <td>20.654939</td>\n",
              "      <td>-6.190876</td>\n",
              "      <td>313.4796</td>\n",
              "      <td>7.47</td>\n",
              "      <td>-0.011</td>\n",
              "      <td>1.530</td>\n",
              "      <td>3748.934037</td>\n",
              "      <td>199.591767</td>\n",
              "      <td>-239.352758</td>\n",
              "      <td>-33.805968</td>\n",
              "      <td>Aqr</td>\n",
              "      <td>87.983250</td>\n",
              "      <td>NaN</td>\n",
              "      <td>NaN</td>\n",
              "      <td>NaN</td>\n",
              "    </tr>\n",
              "    <tr>\n",
              "      <th>...</th>\n",
              "      <td>...</td>\n",
              "      <td>...</td>\n",
              "      <td>...</td>\n",
              "      <td>...</td>\n",
              "      <td>...</td>\n",
              "      <td>...</td>\n",
              "      <td>...</td>\n",
              "      <td>...</td>\n",
              "      <td>...</td>\n",
              "      <td>...</td>\n",
              "      <td>...</td>\n",
              "      <td>...</td>\n",
              "      <td>...</td>\n",
              "      <td>...</td>\n",
              "      <td>...</td>\n",
              "      <td>...</td>\n",
              "    </tr>\n",
              "    <tr>\n",
              "      <th>38334</th>\n",
              "      <td>NaN</td>\n",
              "      <td>23.933739</td>\n",
              "      <td>-12.487534</td>\n",
              "      <td>139.8601</td>\n",
              "      <td>8.06</td>\n",
              "      <td>2.332</td>\n",
              "      <td>0.456</td>\n",
              "      <td>6595.421996</td>\n",
              "      <td>136.530895</td>\n",
              "      <td>-2.368640</td>\n",
              "      <td>-30.241557</td>\n",
              "      <td>Aqr</td>\n",
              "      <td>10.167168</td>\n",
              "      <td>NaN</td>\n",
              "      <td>NaN</td>\n",
              "      <td>NaN</td>\n",
              "    </tr>\n",
              "    <tr>\n",
              "      <th>90756</th>\n",
              "      <td>NaN</td>\n",
              "      <td>23.935329</td>\n",
              "      <td>-21.992062</td>\n",
              "      <td>401.6064</td>\n",
              "      <td>7.24</td>\n",
              "      <td>-0.779</td>\n",
              "      <td>1.623</td>\n",
              "      <td>3617.413931</td>\n",
              "      <td>372.330417</td>\n",
              "      <td>-6.304463</td>\n",
              "      <td>-150.392803</td>\n",
              "      <td>Aqr</td>\n",
              "      <td>178.484292</td>\n",
              "      <td>LX</td>\n",
              "      <td>7.29</td>\n",
              "      <td>7.18</td>\n",
              "    </tr>\n",
              "    <tr>\n",
              "      <th>89747</th>\n",
              "      <td>NaN</td>\n",
              "      <td>23.935540</td>\n",
              "      <td>-18.006823</td>\n",
              "      <td>392.1569</td>\n",
              "      <td>9.15</td>\n",
              "      <td>1.183</td>\n",
              "      <td>0.214</td>\n",
              "      <td>8056.216853</td>\n",
              "      <td>372.895837</td>\n",
              "      <td>-6.293467</td>\n",
              "      <td>-121.227560</td>\n",
              "      <td>Aqr</td>\n",
              "      <td>29.295438</td>\n",
              "      <td>NaN</td>\n",
              "      <td>NaN</td>\n",
              "      <td>NaN</td>\n",
              "    </tr>\n",
              "    <tr>\n",
              "      <th>78853</th>\n",
              "      <td>NaN</td>\n",
              "      <td>23.937617</td>\n",
              "      <td>-13.511216</td>\n",
              "      <td>306.7485</td>\n",
              "      <td>8.95</td>\n",
              "      <td>1.516</td>\n",
              "      <td>0.395</td>\n",
              "      <td>6906.979205</td>\n",
              "      <td>298.219215</td>\n",
              "      <td>-4.870872</td>\n",
              "      <td>-71.667403</td>\n",
              "      <td>Aqr</td>\n",
              "      <td>21.557580</td>\n",
              "      <td>NaN</td>\n",
              "      <td>NaN</td>\n",
              "      <td>NaN</td>\n",
              "    </tr>\n",
              "    <tr>\n",
              "      <th>9281</th>\n",
              "      <td>NaN</td>\n",
              "      <td>23.939262</td>\n",
              "      <td>-9.499158</td>\n",
              "      <td>51.9751</td>\n",
              "      <td>8.20</td>\n",
              "      <td>4.621</td>\n",
              "      <td>0.778</td>\n",
              "      <td>5347.895072</td>\n",
              "      <td>51.256260</td>\n",
              "      <td>-0.815115</td>\n",
              "      <td>-8.577666</td>\n",
              "      <td>Aqr</td>\n",
              "      <td>1.234810</td>\n",
              "      <td>NaN</td>\n",
              "      <td>NaN</td>\n",
              "      <td>NaN</td>\n",
              "    </tr>\n",
              "  </tbody>\n",
              "</table>\n",
              "<p>2010 rows × 16 columns</p>\n",
              "</div>\n",
              "      <button class=\"colab-df-convert\" onclick=\"convertToInteractive('df-9d03e50e-bdde-4774-bec4-e79a47abe575')\"\n",
              "              title=\"Convert this dataframe to an interactive table.\"\n",
              "              style=\"display:none;\">\n",
              "        \n",
              "  <svg xmlns=\"http://www.w3.org/2000/svg\" height=\"24px\"viewBox=\"0 0 24 24\"\n",
              "       width=\"24px\">\n",
              "    <path d=\"M0 0h24v24H0V0z\" fill=\"none\"/>\n",
              "    <path d=\"M18.56 5.44l.94 2.06.94-2.06 2.06-.94-2.06-.94-.94-2.06-.94 2.06-2.06.94zm-11 1L8.5 8.5l.94-2.06 2.06-.94-2.06-.94L8.5 2.5l-.94 2.06-2.06.94zm10 10l.94 2.06.94-2.06 2.06-.94-2.06-.94-.94-2.06-.94 2.06-2.06.94z\"/><path d=\"M17.41 7.96l-1.37-1.37c-.4-.4-.92-.59-1.43-.59-.52 0-1.04.2-1.43.59L10.3 9.45l-7.72 7.72c-.78.78-.78 2.05 0 2.83L4 21.41c.39.39.9.59 1.41.59.51 0 1.02-.2 1.41-.59l7.78-7.78 2.81-2.81c.8-.78.8-2.07 0-2.86zM5.41 20L4 18.59l7.72-7.72 1.47 1.35L5.41 20z\"/>\n",
              "  </svg>\n",
              "      </button>\n",
              "      \n",
              "  <style>\n",
              "    .colab-df-container {\n",
              "      display:flex;\n",
              "      flex-wrap:wrap;\n",
              "      gap: 12px;\n",
              "    }\n",
              "\n",
              "    .colab-df-convert {\n",
              "      background-color: #E8F0FE;\n",
              "      border: none;\n",
              "      border-radius: 50%;\n",
              "      cursor: pointer;\n",
              "      display: none;\n",
              "      fill: #1967D2;\n",
              "      height: 32px;\n",
              "      padding: 0 0 0 0;\n",
              "      width: 32px;\n",
              "    }\n",
              "\n",
              "    .colab-df-convert:hover {\n",
              "      background-color: #E2EBFA;\n",
              "      box-shadow: 0px 1px 2px rgba(60, 64, 67, 0.3), 0px 1px 3px 1px rgba(60, 64, 67, 0.15);\n",
              "      fill: #174EA6;\n",
              "    }\n",
              "\n",
              "    [theme=dark] .colab-df-convert {\n",
              "      background-color: #3B4455;\n",
              "      fill: #D2E3FC;\n",
              "    }\n",
              "\n",
              "    [theme=dark] .colab-df-convert:hover {\n",
              "      background-color: #434B5C;\n",
              "      box-shadow: 0px 1px 3px 1px rgba(0, 0, 0, 0.15);\n",
              "      filter: drop-shadow(0px 1px 2px rgba(0, 0, 0, 0.3));\n",
              "      fill: #FFFFFF;\n",
              "    }\n",
              "  </style>\n",
              "\n",
              "      <script>\n",
              "        const buttonEl =\n",
              "          document.querySelector('#df-9d03e50e-bdde-4774-bec4-e79a47abe575 button.colab-df-convert');\n",
              "        buttonEl.style.display =\n",
              "          google.colab.kernel.accessAllowed ? 'block' : 'none';\n",
              "\n",
              "        async function convertToInteractive(key) {\n",
              "          const element = document.querySelector('#df-9d03e50e-bdde-4774-bec4-e79a47abe575');\n",
              "          const dataTable =\n",
              "            await google.colab.kernel.invokeFunction('convertToInteractive',\n",
              "                                                     [key], {});\n",
              "          if (!dataTable) return;\n",
              "\n",
              "          const docLinkHtml = 'Like what you see? Visit the ' +\n",
              "            '<a target=\"_blank\" href=https://colab.research.google.com/notebooks/data_table.ipynb>data table notebook</a>'\n",
              "            + ' to learn more about interactive tables.';\n",
              "          element.innerHTML = '';\n",
              "          dataTable['output_type'] = 'display_data';\n",
              "          await google.colab.output.renderOutput(dataTable, element);\n",
              "          const docLink = document.createElement('div');\n",
              "          docLink.innerHTML = docLinkHtml;\n",
              "          element.appendChild(docLink);\n",
              "        }\n",
              "      </script>\n",
              "    </div>\n",
              "  </div>\n",
              "  "
            ]
          },
          "metadata": {},
          "execution_count": 75
        }
      ]
    },
    {
      "cell_type": "code",
      "source": [
        "#choose a constellation you know is NOT visible at our location.\n",
        "#create a file with the stars in that constellation (see above for examples), then sort by RA and declination\n",
        "Aquarius = data[(data['con'] == 'Aqr')] #choosing Aquarius, which is not a good choice\n",
        "Aquarius.sort_values(by='ra') #sorting by ra first"
      ],
      "metadata": {
        "id": "4Dn_qzvw3ia4"
      },
      "execution_count": null,
      "outputs": []
    },
    {
      "cell_type": "code",
      "source": [
        "#now, let's investigate stars near the \"special\" points and lines of RA and Declination\n",
        "#first, it might make sense to limit ourselves to bright (or maybe named?) stars\n",
        "bright = data[(data['mag']<4)]\n",
        "bright.shape"
      ],
      "metadata": {
        "colab": {
          "base_uri": "https://localhost:8080/"
        },
        "id": "zjx7eTFpg4pW",
        "outputId": "94427abb-27f1-40c8-805b-9e1a05104a22"
      },
      "execution_count": null,
      "outputs": [
        {
          "output_type": "execute_result",
          "data": {
            "text/plain": [
              "(514, 16)"
            ]
          },
          "metadata": {},
          "execution_count": 94
        }
      ]
    },
    {
      "cell_type": "code",
      "source": [
        "#first, are there bright stars near the poles?\n",
        "bright.sort_values('dec')"
      ],
      "metadata": {
        "colab": {
          "base_uri": "https://localhost:8080/",
          "height": 488
        },
        "id": "rXMafGobhydE",
        "outputId": "32860b24-0e71-40f6-9282-d3873774e406"
      },
      "execution_count": null,
      "outputs": [
        {
          "output_type": "execute_result",
          "data": {
            "text/plain": [
              "        proper         ra        dec      dist   mag  absmag     ci  \\\n",
              "37404      NaN  14.797701 -79.044751  136.9863  3.83  -1.853  1.433   \n",
              "8090       NaN  16.557609 -78.897148   47.9157  3.86   0.458  0.923   \n",
              "2150       NaN  21.691253 -77.390046   21.1999  3.73   2.098  1.008   \n",
              "159        NaN   0.427916 -77.254247    7.4588  2.82   3.457  0.618   \n",
              "13270      NaN   3.787295 -74.238962   65.6168  3.26  -0.825  1.590   \n",
              "...        ...        ...        ...       ...   ...     ...    ...   \n",
              "8169       NaN   2.057268  72.421294   48.1696  3.95   0.536 -0.002   \n",
              "189        NaN  18.350736  72.732843    8.0574  3.55   4.019  0.489   \n",
              "6020    Kochab  14.845105  74.155505   40.1445  2.07  -0.948  1.465   \n",
              "798        NaN  23.655820  77.632276   14.1024  3.21   2.464  1.031   \n",
              "35939  Polaris   2.529750  89.264109  132.6260  1.97  -3.643  0.636   \n",
              "\n",
              "               temp          x          y           z  con          lum  var  \\\n",
              "37404   3897.146594 -19.356924 -17.407930 -134.489842  Aps   479.954425  NaN   \n",
              "8090    4935.556864  -3.402312  -8.577006  -47.018913  Aps    57.121552  NaN   \n",
              "2150    4723.612188   3.808297  -2.630174  -20.688835  Oct    12.612466  NaN   \n",
              "159     5897.947545   1.635267   0.184517   -7.275205  Hyi     3.607447  NaN   \n",
              "13270   3662.972880   9.756821  14.915528  -63.149939  Hyi   186.208714  NaN   \n",
              "...             ...        ...        ...         ...  ...          ...  ...   \n",
              "8169   10150.253360  12.488444   7.461980   45.920103  Cas    53.161840  NaN   \n",
              "189     6439.201919   0.219434  -2.381656    7.694536  Dra     2.149810  NaN   \n",
              "6020    3846.921325  -8.058164  -7.429707   38.619407  UMi   208.545105  NaN   \n",
              "798     4669.519944   3.008186  -0.271815   13.774751  Cep     9.003264  NaN   \n",
              "35939   5830.070651   1.343100   1.047629  132.614909  UMi  2495.743795  Alp   \n",
              "\n",
              "       var_min  var_max  \n",
              "37404      NaN      NaN  \n",
              "8090       NaN      NaN  \n",
              "2150       NaN      NaN  \n",
              "159        NaN      NaN  \n",
              "13270      NaN      NaN  \n",
              "...        ...      ...  \n",
              "8169       NaN      NaN  \n",
              "189        NaN      NaN  \n",
              "6020       NaN      NaN  \n",
              "798        NaN      NaN  \n",
              "35939    1.993    1.953  \n",
              "\n",
              "[514 rows x 16 columns]"
            ],
            "text/html": [
              "\n",
              "  <div id=\"df-85cf6ae8-4db1-40ab-a9b0-1c9aa514b801\">\n",
              "    <div class=\"colab-df-container\">\n",
              "      <div>\n",
              "<style scoped>\n",
              "    .dataframe tbody tr th:only-of-type {\n",
              "        vertical-align: middle;\n",
              "    }\n",
              "\n",
              "    .dataframe tbody tr th {\n",
              "        vertical-align: top;\n",
              "    }\n",
              "\n",
              "    .dataframe thead th {\n",
              "        text-align: right;\n",
              "    }\n",
              "</style>\n",
              "<table border=\"1\" class=\"dataframe\">\n",
              "  <thead>\n",
              "    <tr style=\"text-align: right;\">\n",
              "      <th></th>\n",
              "      <th>proper</th>\n",
              "      <th>ra</th>\n",
              "      <th>dec</th>\n",
              "      <th>dist</th>\n",
              "      <th>mag</th>\n",
              "      <th>absmag</th>\n",
              "      <th>ci</th>\n",
              "      <th>temp</th>\n",
              "      <th>x</th>\n",
              "      <th>y</th>\n",
              "      <th>z</th>\n",
              "      <th>con</th>\n",
              "      <th>lum</th>\n",
              "      <th>var</th>\n",
              "      <th>var_min</th>\n",
              "      <th>var_max</th>\n",
              "    </tr>\n",
              "  </thead>\n",
              "  <tbody>\n",
              "    <tr>\n",
              "      <th>37404</th>\n",
              "      <td>NaN</td>\n",
              "      <td>14.797701</td>\n",
              "      <td>-79.044751</td>\n",
              "      <td>136.9863</td>\n",
              "      <td>3.83</td>\n",
              "      <td>-1.853</td>\n",
              "      <td>1.433</td>\n",
              "      <td>3897.146594</td>\n",
              "      <td>-19.356924</td>\n",
              "      <td>-17.407930</td>\n",
              "      <td>-134.489842</td>\n",
              "      <td>Aps</td>\n",
              "      <td>479.954425</td>\n",
              "      <td>NaN</td>\n",
              "      <td>NaN</td>\n",
              "      <td>NaN</td>\n",
              "    </tr>\n",
              "    <tr>\n",
              "      <th>8090</th>\n",
              "      <td>NaN</td>\n",
              "      <td>16.557609</td>\n",
              "      <td>-78.897148</td>\n",
              "      <td>47.9157</td>\n",
              "      <td>3.86</td>\n",
              "      <td>0.458</td>\n",
              "      <td>0.923</td>\n",
              "      <td>4935.556864</td>\n",
              "      <td>-3.402312</td>\n",
              "      <td>-8.577006</td>\n",
              "      <td>-47.018913</td>\n",
              "      <td>Aps</td>\n",
              "      <td>57.121552</td>\n",
              "      <td>NaN</td>\n",
              "      <td>NaN</td>\n",
              "      <td>NaN</td>\n",
              "    </tr>\n",
              "    <tr>\n",
              "      <th>2150</th>\n",
              "      <td>NaN</td>\n",
              "      <td>21.691253</td>\n",
              "      <td>-77.390046</td>\n",
              "      <td>21.1999</td>\n",
              "      <td>3.73</td>\n",
              "      <td>2.098</td>\n",
              "      <td>1.008</td>\n",
              "      <td>4723.612188</td>\n",
              "      <td>3.808297</td>\n",
              "      <td>-2.630174</td>\n",
              "      <td>-20.688835</td>\n",
              "      <td>Oct</td>\n",
              "      <td>12.612466</td>\n",
              "      <td>NaN</td>\n",
              "      <td>NaN</td>\n",
              "      <td>NaN</td>\n",
              "    </tr>\n",
              "    <tr>\n",
              "      <th>159</th>\n",
              "      <td>NaN</td>\n",
              "      <td>0.427916</td>\n",
              "      <td>-77.254247</td>\n",
              "      <td>7.4588</td>\n",
              "      <td>2.82</td>\n",
              "      <td>3.457</td>\n",
              "      <td>0.618</td>\n",
              "      <td>5897.947545</td>\n",
              "      <td>1.635267</td>\n",
              "      <td>0.184517</td>\n",
              "      <td>-7.275205</td>\n",
              "      <td>Hyi</td>\n",
              "      <td>3.607447</td>\n",
              "      <td>NaN</td>\n",
              "      <td>NaN</td>\n",
              "      <td>NaN</td>\n",
              "    </tr>\n",
              "    <tr>\n",
              "      <th>13270</th>\n",
              "      <td>NaN</td>\n",
              "      <td>3.787295</td>\n",
              "      <td>-74.238962</td>\n",
              "      <td>65.6168</td>\n",
              "      <td>3.26</td>\n",
              "      <td>-0.825</td>\n",
              "      <td>1.590</td>\n",
              "      <td>3662.972880</td>\n",
              "      <td>9.756821</td>\n",
              "      <td>14.915528</td>\n",
              "      <td>-63.149939</td>\n",
              "      <td>Hyi</td>\n",
              "      <td>186.208714</td>\n",
              "      <td>NaN</td>\n",
              "      <td>NaN</td>\n",
              "      <td>NaN</td>\n",
              "    </tr>\n",
              "    <tr>\n",
              "      <th>...</th>\n",
              "      <td>...</td>\n",
              "      <td>...</td>\n",
              "      <td>...</td>\n",
              "      <td>...</td>\n",
              "      <td>...</td>\n",
              "      <td>...</td>\n",
              "      <td>...</td>\n",
              "      <td>...</td>\n",
              "      <td>...</td>\n",
              "      <td>...</td>\n",
              "      <td>...</td>\n",
              "      <td>...</td>\n",
              "      <td>...</td>\n",
              "      <td>...</td>\n",
              "      <td>...</td>\n",
              "      <td>...</td>\n",
              "    </tr>\n",
              "    <tr>\n",
              "      <th>8169</th>\n",
              "      <td>NaN</td>\n",
              "      <td>2.057268</td>\n",
              "      <td>72.421294</td>\n",
              "      <td>48.1696</td>\n",
              "      <td>3.95</td>\n",
              "      <td>0.536</td>\n",
              "      <td>-0.002</td>\n",
              "      <td>10150.253360</td>\n",
              "      <td>12.488444</td>\n",
              "      <td>7.461980</td>\n",
              "      <td>45.920103</td>\n",
              "      <td>Cas</td>\n",
              "      <td>53.161840</td>\n",
              "      <td>NaN</td>\n",
              "      <td>NaN</td>\n",
              "      <td>NaN</td>\n",
              "    </tr>\n",
              "    <tr>\n",
              "      <th>189</th>\n",
              "      <td>NaN</td>\n",
              "      <td>18.350736</td>\n",
              "      <td>72.732843</td>\n",
              "      <td>8.0574</td>\n",
              "      <td>3.55</td>\n",
              "      <td>4.019</td>\n",
              "      <td>0.489</td>\n",
              "      <td>6439.201919</td>\n",
              "      <td>0.219434</td>\n",
              "      <td>-2.381656</td>\n",
              "      <td>7.694536</td>\n",
              "      <td>Dra</td>\n",
              "      <td>2.149810</td>\n",
              "      <td>NaN</td>\n",
              "      <td>NaN</td>\n",
              "      <td>NaN</td>\n",
              "    </tr>\n",
              "    <tr>\n",
              "      <th>6020</th>\n",
              "      <td>Kochab</td>\n",
              "      <td>14.845105</td>\n",
              "      <td>74.155505</td>\n",
              "      <td>40.1445</td>\n",
              "      <td>2.07</td>\n",
              "      <td>-0.948</td>\n",
              "      <td>1.465</td>\n",
              "      <td>3846.921325</td>\n",
              "      <td>-8.058164</td>\n",
              "      <td>-7.429707</td>\n",
              "      <td>38.619407</td>\n",
              "      <td>UMi</td>\n",
              "      <td>208.545105</td>\n",
              "      <td>NaN</td>\n",
              "      <td>NaN</td>\n",
              "      <td>NaN</td>\n",
              "    </tr>\n",
              "    <tr>\n",
              "      <th>798</th>\n",
              "      <td>NaN</td>\n",
              "      <td>23.655820</td>\n",
              "      <td>77.632276</td>\n",
              "      <td>14.1024</td>\n",
              "      <td>3.21</td>\n",
              "      <td>2.464</td>\n",
              "      <td>1.031</td>\n",
              "      <td>4669.519944</td>\n",
              "      <td>3.008186</td>\n",
              "      <td>-0.271815</td>\n",
              "      <td>13.774751</td>\n",
              "      <td>Cep</td>\n",
              "      <td>9.003264</td>\n",
              "      <td>NaN</td>\n",
              "      <td>NaN</td>\n",
              "      <td>NaN</td>\n",
              "    </tr>\n",
              "    <tr>\n",
              "      <th>35939</th>\n",
              "      <td>Polaris</td>\n",
              "      <td>2.529750</td>\n",
              "      <td>89.264109</td>\n",
              "      <td>132.6260</td>\n",
              "      <td>1.97</td>\n",
              "      <td>-3.643</td>\n",
              "      <td>0.636</td>\n",
              "      <td>5830.070651</td>\n",
              "      <td>1.343100</td>\n",
              "      <td>1.047629</td>\n",
              "      <td>132.614909</td>\n",
              "      <td>UMi</td>\n",
              "      <td>2495.743795</td>\n",
              "      <td>Alp</td>\n",
              "      <td>1.993</td>\n",
              "      <td>1.953</td>\n",
              "    </tr>\n",
              "  </tbody>\n",
              "</table>\n",
              "<p>514 rows × 16 columns</p>\n",
              "</div>\n",
              "      <button class=\"colab-df-convert\" onclick=\"convertToInteractive('df-85cf6ae8-4db1-40ab-a9b0-1c9aa514b801')\"\n",
              "              title=\"Convert this dataframe to an interactive table.\"\n",
              "              style=\"display:none;\">\n",
              "        \n",
              "  <svg xmlns=\"http://www.w3.org/2000/svg\" height=\"24px\"viewBox=\"0 0 24 24\"\n",
              "       width=\"24px\">\n",
              "    <path d=\"M0 0h24v24H0V0z\" fill=\"none\"/>\n",
              "    <path d=\"M18.56 5.44l.94 2.06.94-2.06 2.06-.94-2.06-.94-.94-2.06-.94 2.06-2.06.94zm-11 1L8.5 8.5l.94-2.06 2.06-.94-2.06-.94L8.5 2.5l-.94 2.06-2.06.94zm10 10l.94 2.06.94-2.06 2.06-.94-2.06-.94-.94-2.06-.94 2.06-2.06.94z\"/><path d=\"M17.41 7.96l-1.37-1.37c-.4-.4-.92-.59-1.43-.59-.52 0-1.04.2-1.43.59L10.3 9.45l-7.72 7.72c-.78.78-.78 2.05 0 2.83L4 21.41c.39.39.9.59 1.41.59.51 0 1.02-.2 1.41-.59l7.78-7.78 2.81-2.81c.8-.78.8-2.07 0-2.86zM5.41 20L4 18.59l7.72-7.72 1.47 1.35L5.41 20z\"/>\n",
              "  </svg>\n",
              "      </button>\n",
              "      \n",
              "  <style>\n",
              "    .colab-df-container {\n",
              "      display:flex;\n",
              "      flex-wrap:wrap;\n",
              "      gap: 12px;\n",
              "    }\n",
              "\n",
              "    .colab-df-convert {\n",
              "      background-color: #E8F0FE;\n",
              "      border: none;\n",
              "      border-radius: 50%;\n",
              "      cursor: pointer;\n",
              "      display: none;\n",
              "      fill: #1967D2;\n",
              "      height: 32px;\n",
              "      padding: 0 0 0 0;\n",
              "      width: 32px;\n",
              "    }\n",
              "\n",
              "    .colab-df-convert:hover {\n",
              "      background-color: #E2EBFA;\n",
              "      box-shadow: 0px 1px 2px rgba(60, 64, 67, 0.3), 0px 1px 3px 1px rgba(60, 64, 67, 0.15);\n",
              "      fill: #174EA6;\n",
              "    }\n",
              "\n",
              "    [theme=dark] .colab-df-convert {\n",
              "      background-color: #3B4455;\n",
              "      fill: #D2E3FC;\n",
              "    }\n",
              "\n",
              "    [theme=dark] .colab-df-convert:hover {\n",
              "      background-color: #434B5C;\n",
              "      box-shadow: 0px 1px 3px 1px rgba(0, 0, 0, 0.15);\n",
              "      filter: drop-shadow(0px 1px 2px rgba(0, 0, 0, 0.3));\n",
              "      fill: #FFFFFF;\n",
              "    }\n",
              "  </style>\n",
              "\n",
              "      <script>\n",
              "        const buttonEl =\n",
              "          document.querySelector('#df-85cf6ae8-4db1-40ab-a9b0-1c9aa514b801 button.colab-df-convert');\n",
              "        buttonEl.style.display =\n",
              "          google.colab.kernel.accessAllowed ? 'block' : 'none';\n",
              "\n",
              "        async function convertToInteractive(key) {\n",
              "          const element = document.querySelector('#df-85cf6ae8-4db1-40ab-a9b0-1c9aa514b801');\n",
              "          const dataTable =\n",
              "            await google.colab.kernel.invokeFunction('convertToInteractive',\n",
              "                                                     [key], {});\n",
              "          if (!dataTable) return;\n",
              "\n",
              "          const docLinkHtml = 'Like what you see? Visit the ' +\n",
              "            '<a target=\"_blank\" href=https://colab.research.google.com/notebooks/data_table.ipynb>data table notebook</a>'\n",
              "            + ' to learn more about interactive tables.';\n",
              "          element.innerHTML = '';\n",
              "          dataTable['output_type'] = 'display_data';\n",
              "          await google.colab.output.renderOutput(dataTable, element);\n",
              "          const docLink = document.createElement('div');\n",
              "          docLink.innerHTML = docLinkHtml;\n",
              "          element.appendChild(docLink);\n",
              "        }\n",
              "      </script>\n",
              "    </div>\n",
              "  </div>\n",
              "  "
            ]
          },
          "metadata": {},
          "execution_count": 97
        }
      ]
    },
    {
      "cell_type": "code",
      "source": [
        "#what about stars near the equator?  come up with some code to find those.\n",
        "cestars = bright[(bright['dec'] >= -1) & (bright['dec'] <= 1)]\n",
        "\n",
        "print(cestars)"
      ],
      "metadata": {
        "colab": {
          "base_uri": "https://localhost:8080/"
        },
        "id": "CVkv9B28iHpr",
        "outputId": "e3a84b7b-5d4b-4e44-cc21-61cabbac8c29"
      },
      "execution_count": null,
      "outputs": [
        {
          "output_type": "stream",
          "name": "stdout",
          "text": [
            "           proper         ra       dec      dist    mag  absmag     ci  \\\n",
            "0             Sol   0.000000  0.000000    0.0000 -26.70   4.850  0.656   \n",
            "2500          NaN  13.578220 -0.595820   22.7118   3.38   1.599  0.114   \n",
            "3646          NaN  22.480531 -0.019972   28.1690   3.65   1.401  0.406   \n",
            "18317         NaN  12.331766 -0.666803   81.3670   3.89  -0.662  0.026   \n",
            "20389         NaN  20.188413 -0.821461   87.7963   3.24  -1.477 -0.066   \n",
            "44995  Sadalmelik  22.096399 -0.319851  160.5136   2.95  -3.078  0.969   \n",
            "59435     Mintaka   5.533445 -0.299092  212.3142   2.25  -4.385 -0.175   \n",
            "\n",
            "               temp           x           y         z  con          lum  var  \\\n",
            "0       5756.588113    0.000005    0.000000  0.000000  NaN     1.000000  NaN   \n",
            "2500    8894.523832  -20.799365   -9.118725 -0.236175  Vir    19.971009  NaN   \n",
            "3646    6848.452202   25.969719  -10.912416 -0.009819  Aqr    23.966245  NaN   \n",
            "18317   9812.081842  -81.054806   -7.057860 -0.946921  Vir   160.250724  NaN   \n",
            "20389  11030.970530   47.588681  -73.769106 -1.258706  Aql   339.468905  NaN   \n",
            "44995   4818.422169  140.987693  -76.722268 -0.896054  Aqr  1483.200967  NaN   \n",
            "59435  13010.740360   25.868117  210.729667 -1.108306  Ori  4943.106870  Del   \n",
            "\n",
            "       var_min  var_max  \n",
            "0          NaN      NaN  \n",
            "2500       NaN      NaN  \n",
            "3646       NaN      NaN  \n",
            "18317      NaN      NaN  \n",
            "20389      NaN      NaN  \n",
            "44995      NaN      NaN  \n",
            "59435    2.334    2.234  \n"
          ]
        }
      ]
    },
    {
      "cell_type": "code",
      "source": [
        "#what stars are near the RA = 0?   RA = 12 h?  write the code to determine.\n",
        "ra0stars = bright[(bright['ra'] >= 23.5) & bright['proper'].notnull()| (bright['ra'] <= 0.5) & bright['proper'].notnull()]\n",
        "\n",
        "print(ra0stars)"
      ],
      "metadata": {
        "colab": {
          "base_uri": "https://localhost:8080/"
        },
        "id": "Sbp0kPEcq7Vz",
        "outputId": "86a20051-9d0b-4d5c-9e9a-52eb87890b59"
      },
      "execution_count": null,
      "outputs": [
        {
          "output_type": "stream",
          "name": "stdout",
          "text": [
            "          proper        ra        dec      dist    mag  absmag     ci  \\\n",
            "0            Sol  0.000000   0.000000    0.0000 -26.70   4.850  0.656   \n",
            "1273        Caph  0.152887  59.149780   16.7842   2.28   1.155  0.380   \n",
            "3270       Ankaa  0.438056 -42.305981   25.9740   2.40   0.327  1.083   \n",
            "3895   Alpheratz  0.139791  29.090432   29.7442   2.07  -0.297 -0.038   \n",
            "31649    Algenib  0.220598  15.183596  120.0480   2.83  -2.567 -0.190   \n",
            "\n",
            "               temp           x         y          z  con         lum  var  \\\n",
            "0       5756.588113    0.000005  0.000000   0.000000  NaN    1.000000  NaN   \n",
            "1273    6988.564782    8.600014  0.344589  14.409503  Cas   30.060763  Bet   \n",
            "3270    4551.904315   19.083654  2.198282 -17.483284  Phe   64.446598  NaN   \n",
            "3895   10625.406630   25.974572  0.951042  14.461264  And  114.498553  Alp   \n",
            "31649  13348.432760  115.664183  6.687324  31.442127  Peg  926.403101  Gam   \n",
            "\n",
            "       var_min  var_max  \n",
            "0          NaN      NaN  \n",
            "1273     2.303    2.263  \n",
            "3270       NaN      NaN  \n",
            "3895     2.083    2.063  \n",
            "31649    2.846    2.816  \n"
          ]
        }
      ]
    },
    {
      "cell_type": "markdown",
      "source": [
        "**Questions to Consider, Part 5**\n",
        "1. Can you tell anything about what determines which constellations are visible at a location?\n",
        "2. What other systems could we use to identify points on the celestial sphere?\n",
        "3. If you are looking for bright stars near the poles or celestial equator, what stars do you want to find?\n",
        "4. Why is celestial navigation more straightforward in the northern hemisphere at middle latitudes?"
      ],
      "metadata": {
        "id": "lKeCIxe23m-1"
      }
    },
    {
      "cell_type": "markdown",
      "source": [
        "#Part 6: Angular Separations"
      ],
      "metadata": {
        "id": "H4nbfQS-4DrM"
      }
    },
    {
      "cell_type": "markdown",
      "source": [
        "Measuring the angle between two stars or measuring the angle between a star and the horizon is useful in lots of parts of astronomy.  The math to get the exact measurement depends on spherical trigonometry and is beyond the scope of this course to compute by hand, but this is exactly what coding is great for!\n",
        "\n",
        "The equation is\n",
        "![angular separation](https://raw.githubusercontent.com/skmay-physics/codingresources/main/Angular%20Separation.png), where the theta and phis represent the RA and dec of the two stars we are interested in. Let's define some code to use this equation for us!"
      ],
      "metadata": {
        "id": "3jfL1zna01cc"
      }
    },
    {
      "cell_type": "code",
      "source": [
        "#onward!\n",
        "#first, we need to tell which stars we are interested in\n",
        "\n",
        "star1 = data.loc[data['proper'] == 'Vega'] #pulls out Arcturus as star1\n",
        "star2 = data.loc[data['proper'] == 'Altair'] #pulls out Spica as star2\n",
        "print(star1, star2)\n"
      ],
      "metadata": {
        "colab": {
          "base_uri": "https://localhost:8080/"
        },
        "id": "1qyDfAKAEy_c",
        "outputId": "0bcd37ae-d7ad-42aa-942a-989fa541bf3a"
      },
      "execution_count": null,
      "outputs": [
        {
          "output_type": "stream",
          "name": "stdout",
          "text": [
            "    proper        ra        dec    dist   mag  absmag     ci         temp  \\\n",
            "171   Vega  18.61564  38.783692  7.6787  0.03   0.604 -0.001  10137.72807   \n",
            "\n",
            "            x         y         z  con        lum  var  var_min  var_max  \n",
            "171  0.960565 -5.908009  4.809731  Lyr  49.934419  NaN      NaN      NaN       proper         ra       dec    dist   mag  absmag     ci         temp  \\\n",
            "72  Altair  19.846388  8.868322  5.1295  0.76    2.21  0.221  8003.964554   \n",
            "\n",
            "           x       y         z  con        lum  var  var_min  var_max  \n",
            "72  2.355468 -4.4873  0.790749  Aql  11.376273  Alp    0.803    0.753  \n"
          ]
        }
      ]
    },
    {
      "cell_type": "code",
      "source": [
        "#now we need the ra and dec values for each star so that we can do the math\n",
        "ra1 = star1['ra'].values[0]\n",
        "dec1 = star1['dec'].values[0]\n",
        "\n",
        "ra2 = star2['ra'].values[0]\n",
        "dec2 = star2['dec'].values[0]"
      ],
      "metadata": {
        "id": "zo4by_C2GQol"
      },
      "execution_count": null,
      "outputs": []
    },
    {
      "cell_type": "code",
      "source": [
        "#now, the calculation (courtesy of my coding friend and tutor, GPT4)\n",
        "\n",
        "def calculate_angular_separation(ra1, dec1, ra2, dec2):\n",
        "    # Convert RA from hours to radians\n",
        "    ra1 = np.deg2rad(ra1 * 15)\n",
        "    ra2 = np.deg2rad(ra2 * 15)\n",
        "\n",
        "    # Convert Dec from degrees to radians\n",
        "    dec1 = np.deg2rad(dec1)\n",
        "    dec2 = np.deg2rad(dec2)\n",
        "\n",
        "    # Calculate angular separation\n",
        "    cos_d = np.sin(dec1) * np.sin(dec2) + np.cos(dec1) * np.cos(dec2) * np.cos(ra1 - ra2)\n",
        "\n",
        "    # Due to precision issues, the value of cos_d might slightly be outside of the -1 to 1 range\n",
        "    # We need to clip it to that range to avoid ValueError during np.arccos\n",
        "    cos_d = np.clip(cos_d, -1, 1)\n",
        "\n",
        "    return np.rad2deg(np.arccos(cos_d))  # Convert the result back to degrees\n",
        "\n",
        "#calculate for our stars\n",
        "\n",
        "print(calculate_angular_separation(ra1, dec1, ra2, dec2))  # result in degrees"
      ],
      "metadata": {
        "colab": {
          "base_uri": "https://localhost:8080/"
        },
        "id": "6wpGiSSuGXEl",
        "outputId": "676cf0d8-e166-407c-8016-b7870bcfb2a9"
      },
      "execution_count": null,
      "outputs": [
        {
          "output_type": "stream",
          "name": "stdout",
          "text": [
            "34.19524144278413\n"
          ]
        }
      ]
    },
    {
      "cell_type": "markdown",
      "source": [
        "You can check your work by considering some \"known\" separations from [this page](https://stjerneskinn.com/angular-distance-between-stars.htm) to make sure your code is giving the results that it should.\n",
        "\n",
        "\n",
        "**Questions to Consider, Part 6**\n",
        "1. Consider the named stars of the Big Dipper.  What are the angular separations between its major stars?\n",
        "2. A hand in a [fully spread shaka](https://www.timeanddate.com/astronomy/measuring-the-sky-by-hand.html) is about 25 degrees.  Find a pair of bright stars with this separation and confirm with the code above.\n",
        "3.  Look at the other hand/arm angular estimates. Choose another one and find a pair of stars for it."
      ],
      "metadata": {
        "id": "NNB5AaZnHV6p"
      }
    },
    {
      "cell_type": "code",
      "source": [],
      "metadata": {
        "id": "2tkdgugYHVou"
      },
      "execution_count": null,
      "outputs": []
    },
    {
      "cell_type": "markdown",
      "metadata": {
        "id": "znXny8nbxdUK"
      },
      "source": [
        "# Credits\n",
        "The data came from [The Astronomy Nexus](http://www.astronexus.com/hyg) and their collection of the Hipparcos, Yale Bright Star, and Gliese catalogues ([huge zip file here](http://www.astronexus.com/files/downloads/hygdata_v3.csv.gz)).\n",
        "\n",
        "The notebook was built by SKMay using resources provided by QuarkNet at Coding Camp 1 in Summer 2023."
      ]
    }
  ],
  "metadata": {
    "anaconda-cloud": {},
    "colab": {
      "provenance": [],
      "include_colab_link": true
    },
    "kernelspec": {
      "display_name": "Python 3",
      "language": "python",
      "name": "python3"
    },
    "language_info": {
      "codemirror_mode": {
        "name": "ipython",
        "version": 3
      },
      "file_extension": ".py",
      "mimetype": "text/x-python",
      "name": "python",
      "nbconvert_exporter": "python",
      "pygments_lexer": "ipython3",
      "version": "3.7.7"
    }
  },
  "nbformat": 4,
  "nbformat_minor": 0
}